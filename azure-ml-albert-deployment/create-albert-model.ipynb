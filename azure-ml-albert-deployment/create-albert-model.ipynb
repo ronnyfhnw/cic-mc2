{
 "cells": [
  {
   "attachments": {},
   "cell_type": "markdown",
   "metadata": {},
   "source": [
    "# Create and test Albert Model, Environment and Endpoint"
   ]
  },
  {
   "attachments": {},
   "cell_type": "markdown",
   "metadata": {},
   "source": [
    "## Create Albert Model"
   ]
  },
  {
   "cell_type": "code",
   "execution_count": 52,
   "metadata": {},
   "outputs": [],
   "source": [
    "# imports for albert model\n",
    "import torch\n",
    "from transformers import AlbertConfig, AlbertModel, AlbertTokenizer"
   ]
  },
  {
   "cell_type": "code",
   "execution_count": 53,
   "metadata": {},
   "outputs": [
    {
     "name": "stderr",
     "output_type": "stream",
     "text": [
      "Some weights of the model checkpoint at albert-base-v2 were not used when initializing AlbertModel: ['predictions.LayerNorm.bias', 'predictions.bias', 'predictions.dense.weight', 'predictions.decoder.weight', 'predictions.dense.bias', 'predictions.LayerNorm.weight', 'predictions.decoder.bias']\n",
      "- This IS expected if you are initializing AlbertModel from the checkpoint of a model trained on another task or with another architecture (e.g. initializing a BertForSequenceClassification model from a BertForPreTraining model).\n",
      "- This IS NOT expected if you are initializing AlbertModel from the checkpoint of a model that you expect to be exactly identical (initializing a BertForSequenceClassification model from a BertForSequenceClassification model).\n"
     ]
    }
   ],
   "source": [
    "model = AlbertModel.from_pretrained('albert-base-v2', torchscript=True)\n",
    "tokenizer = AlbertTokenizer.from_pretrained('albert-base-v2')\n",
    "model.eval()\n",
    "\n",
    "# create example inputs\n",
    "sentence = \"Classic action movie with Tom Cruise!\"\n",
    "tokens = tokenizer.tokenize(sentence)\n",
    "token_tensor = torch.tensor(tokenizer.encode(tokens)).unsqueeze(0)\n",
    "segments_tensor = torch.tensor([1] * token_tensor.shape[1]).unsqueeze(0)"
   ]
  },
  {
   "cell_type": "code",
   "execution_count": 54,
   "metadata": {},
   "outputs": [],
   "source": [
    "traced_model = torch.jit.trace(model, (token_tensor, segments_tensor))\n",
    "torch.jit.save(traced_model, \"traced-albert.pt\")"
   ]
  },
  {
   "attachments": {},
   "cell_type": "markdown",
   "metadata": {},
   "source": [
    "## Create Azure ML Model"
   ]
  },
  {
   "cell_type": "code",
   "execution_count": 58,
   "metadata": {},
   "outputs": [],
   "source": [
    "from azure.ai.ml.entities import Model\n",
    "from azure.ai.ml.constants import AssetTypes\n",
    "from azure.identity import DefaultAzureCredential\n",
    "import json\n",
    "from azure.ai.ml import MLClient"
   ]
  },
  {
   "cell_type": "code",
   "execution_count": 59,
   "metadata": {},
   "outputs": [],
   "source": [
    "with open(\"../secrets.json\", \"r\") as f:\n",
    "    secrets = json.load(f)\n",
    "\n",
    "# enter details of your AzureML workspace\n",
    "subscription_id = secrets['subscription_id']\n",
    "resource_group = secrets['resource_group']\n",
    "workspace = secrets['workspace_name']\n",
    "\n",
    "# get a handle to the workspace\n",
    "ml_client = MLClient(\n",
    "    DefaultAzureCredential(), subscription_id, resource_group, workspace\n",
    ")"
   ]
  },
  {
   "cell_type": "code",
   "execution_count": 60,
   "metadata": {},
   "outputs": [
    {
     "name": "stderr",
     "output_type": "stream",
     "text": [
      "DefaultAzureCredential failed to retrieve a token from the included credentials.\n",
      "Attempted credentials:\n",
      "\tEnvironmentCredential: EnvironmentCredential authentication unavailable. Environment variables are not fully configured.\n",
      "Visit https://aka.ms/azsdk/python/identity/environmentcredential/troubleshoot to troubleshoot.this issue.\n",
      "\tManagedIdentityCredential: ManagedIdentityCredential authentication unavailable, no response from the IMDS endpoint.\n",
      "\tSharedTokenCacheCredential: Azure Active Directory error '(invalid_grant) AADSTS70043: The refresh token has expired or is invalid due to sign-in frequency checks by conditional access. The token was issued on 2022-12-26T10:19:15.8483413Z and the maximum allowed lifetime for this request is 36000.\n",
      "Trace ID: ab4c1d28-f09f-4db5-93f9-939119b11d00\n",
      "Correlation ID: c5de35f1-b301-4083-8d76-f232f179bdd8\n",
      "Timestamp: 2022-12-27 10:30:29Z'\n",
      "Content: {\"error\":\"invalid_grant\",\"error_description\":\"AADSTS70043: The refresh token has expired or is invalid due to sign-in frequency checks by conditional access. The token was issued on 2022-12-26T10:19:15.8483413Z and the maximum allowed lifetime for this request is 36000.\\r\\nTrace ID: ab4c1d28-f09f-4db5-93f9-939119b11d00\\r\\nCorrelation ID: c5de35f1-b301-4083-8d76-f232f179bdd8\\r\\nTimestamp: 2022-12-27 10:30:29Z\",\"error_codes\":[70043],\"timestamp\":\"2022-12-27 10:30:29Z\",\"trace_id\":\"ab4c1d28-f09f-4db5-93f9-939119b11d00\",\"correlation_id\":\"c5de35f1-b301-4083-8d76-f232f179bdd8\",\"suberror\":\"token_expired\"}\n",
      "To mitigate this issue, please refer to the troubleshooting guidelines here at https://aka.ms/azsdk/python/identity/defaultazurecredential/troubleshoot.\n"
     ]
    },
    {
     "ename": "ClientAuthenticationError",
     "evalue": "DefaultAzureCredential failed to retrieve a token from the included credentials.\nAttempted credentials:\n\tEnvironmentCredential: EnvironmentCredential authentication unavailable. Environment variables are not fully configured.\nVisit https://aka.ms/azsdk/python/identity/environmentcredential/troubleshoot to troubleshoot.this issue.\n\tManagedIdentityCredential: ManagedIdentityCredential authentication unavailable, no response from the IMDS endpoint.\n\tSharedTokenCacheCredential: Azure Active Directory error '(invalid_grant) AADSTS70043: The refresh token has expired or is invalid due to sign-in frequency checks by conditional access. The token was issued on 2022-12-26T10:19:15.8483413Z and the maximum allowed lifetime for this request is 36000.\r\nTrace ID: ab4c1d28-f09f-4db5-93f9-939119b11d00\r\nCorrelation ID: c5de35f1-b301-4083-8d76-f232f179bdd8\r\nTimestamp: 2022-12-27 10:30:29Z'\nContent: {\"error\":\"invalid_grant\",\"error_description\":\"AADSTS70043: The refresh token has expired or is invalid due to sign-in frequency checks by conditional access. The token was issued on 2022-12-26T10:19:15.8483413Z and the maximum allowed lifetime for this request is 36000.\\r\\nTrace ID: ab4c1d28-f09f-4db5-93f9-939119b11d00\\r\\nCorrelation ID: c5de35f1-b301-4083-8d76-f232f179bdd8\\r\\nTimestamp: 2022-12-27 10:30:29Z\",\"error_codes\":[70043],\"timestamp\":\"2022-12-27 10:30:29Z\",\"trace_id\":\"ab4c1d28-f09f-4db5-93f9-939119b11d00\",\"correlation_id\":\"c5de35f1-b301-4083-8d76-f232f179bdd8\",\"suberror\":\"token_expired\"}\nTo mitigate this issue, please refer to the troubleshooting guidelines here at https://aka.ms/azsdk/python/identity/defaultazurecredential/troubleshoot.",
     "output_type": "error",
     "traceback": [
      "\u001b[0;31m---------------------------------------------------------------------------\u001b[0m",
      "\u001b[0;31mClientAuthenticationError\u001b[0m                 Traceback (most recent call last)",
      "Cell \u001b[0;32mIn[60], line 7\u001b[0m\n\u001b[1;32m      1\u001b[0m file_model \u001b[39m=\u001b[39m Model(\n\u001b[1;32m      2\u001b[0m     path\u001b[39m=\u001b[39m\u001b[39m\"\u001b[39m\u001b[39mtraced-albert.pt\u001b[39m\u001b[39m\"\u001b[39m,\n\u001b[1;32m      3\u001b[0m     \u001b[39mtype\u001b[39m\u001b[39m=\u001b[39mAssetTypes\u001b[39m.\u001b[39mCUSTOM_MODEL,\n\u001b[1;32m      4\u001b[0m     name\u001b[39m=\u001b[39m\u001b[39m\"\u001b[39m\u001b[39mtraced-albert\u001b[39m\u001b[39m\"\u001b[39m,\n\u001b[1;32m      5\u001b[0m     description\u001b[39m=\u001b[39m\u001b[39m\"\u001b[39m\u001b[39mModel created from local file.\u001b[39m\u001b[39m\"\u001b[39m,\n\u001b[1;32m      6\u001b[0m )\n\u001b[0;32m----> 7\u001b[0m ml_client\u001b[39m.\u001b[39;49mmodels\u001b[39m.\u001b[39;49mcreate_or_update(file_model)\n",
      "File \u001b[0;32m/usr/local/Caskroom/miniconda/base/envs/albert-env/lib/python3.10/site-packages/azure/ai/ml/operations/_model_operations.py:226\u001b[0m, in \u001b[0;36mModelOperations.create_or_update\u001b[0;34m(self, model)\u001b[0m\n\u001b[1;32m    224\u001b[0m     log_and_raise_error(ex)\n\u001b[1;32m    225\u001b[0m \u001b[39melse\u001b[39;00m:\n\u001b[0;32m--> 226\u001b[0m     \u001b[39mraise\u001b[39;00m ex\n",
      "File \u001b[0;32m/usr/local/Caskroom/miniconda/base/envs/albert-env/lib/python3.10/site-packages/azure/ai/ml/operations/_model_operations.py:165\u001b[0m, in \u001b[0;36mModelOperations.create_or_update\u001b[0;34m(self, model)\u001b[0m\n\u001b[1;32m    162\u001b[0m         module_logger\u001b[39m.\u001b[39mdebug(\u001b[39m\"\u001b[39m\u001b[39mGetting the existing asset name: \u001b[39m\u001b[39m%s\u001b[39;00m\u001b[39m, version: \u001b[39m\u001b[39m%s\u001b[39;00m\u001b[39m\"\u001b[39m, model\u001b[39m.\u001b[39mname, model\u001b[39m.\u001b[39mversion)\n\u001b[1;32m    163\u001b[0m         \u001b[39mreturn\u001b[39;00m \u001b[39mself\u001b[39m\u001b[39m.\u001b[39mget(name\u001b[39m=\u001b[39mmodel\u001b[39m.\u001b[39mname, version\u001b[39m=\u001b[39mmodel\u001b[39m.\u001b[39mversion)\n\u001b[0;32m--> 165\u001b[0m model, indicator_file \u001b[39m=\u001b[39m _check_and_upload_path(\n\u001b[1;32m    166\u001b[0m     artifact\u001b[39m=\u001b[39;49mmodel, asset_operations\u001b[39m=\u001b[39;49m\u001b[39mself\u001b[39;49m, sas_uri\u001b[39m=\u001b[39;49msas_uri, artifact_type\u001b[39m=\u001b[39;49mErrorTarget\u001b[39m.\u001b[39;49mMODEL\n\u001b[1;32m    167\u001b[0m )\n\u001b[1;32m    169\u001b[0m model\u001b[39m.\u001b[39mpath \u001b[39m=\u001b[39m resolve_short_datastore_url(model\u001b[39m.\u001b[39mpath, \u001b[39mself\u001b[39m\u001b[39m.\u001b[39m_operation_scope)\n\u001b[1;32m    170\u001b[0m validate_ml_flow_folder(model\u001b[39m.\u001b[39mpath, model\u001b[39m.\u001b[39mtype)\n",
      "File \u001b[0;32m/usr/local/Caskroom/miniconda/base/envs/albert-env/lib/python3.10/site-packages/azure/ai/ml/_artifacts/_artifact_utilities.py:399\u001b[0m, in \u001b[0;36m_check_and_upload_path\u001b[0;34m(artifact, asset_operations, artifact_type, datastore_name, sas_uri, show_progress)\u001b[0m\n\u001b[1;32m    397\u001b[0m \u001b[39mif\u001b[39;00m \u001b[39mnot\u001b[39;00m path\u001b[39m.\u001b[39mis_absolute():\n\u001b[1;32m    398\u001b[0m     path \u001b[39m=\u001b[39m Path(artifact\u001b[39m.\u001b[39mbase_path, path)\u001b[39m.\u001b[39mresolve()\n\u001b[0;32m--> 399\u001b[0m uploaded_artifact \u001b[39m=\u001b[39m _upload_to_datastore(\n\u001b[1;32m    400\u001b[0m     asset_operations\u001b[39m.\u001b[39;49m_operation_scope,\n\u001b[1;32m    401\u001b[0m     asset_operations\u001b[39m.\u001b[39;49m_datastore_operation,\n\u001b[1;32m    402\u001b[0m     path,\n\u001b[1;32m    403\u001b[0m     datastore_name\u001b[39m=\u001b[39;49mdatastore_name,\n\u001b[1;32m    404\u001b[0m     asset_name\u001b[39m=\u001b[39;49martifact\u001b[39m.\u001b[39;49mname,\n\u001b[1;32m    405\u001b[0m     asset_version\u001b[39m=\u001b[39;49m\u001b[39mstr\u001b[39;49m(artifact\u001b[39m.\u001b[39;49mversion),\n\u001b[1;32m    406\u001b[0m     asset_hash\u001b[39m=\u001b[39;49martifact\u001b[39m.\u001b[39;49m_upload_hash \u001b[39mif\u001b[39;49;00m \u001b[39mhasattr\u001b[39;49m(artifact, \u001b[39m\"\u001b[39;49m\u001b[39m_upload_hash\u001b[39;49m\u001b[39m\"\u001b[39;49m) \u001b[39melse\u001b[39;49;00m \u001b[39mNone\u001b[39;49;00m,\n\u001b[1;32m    407\u001b[0m     sas_uri\u001b[39m=\u001b[39;49msas_uri,\n\u001b[1;32m    408\u001b[0m     artifact_type\u001b[39m=\u001b[39;49martifact_type,\n\u001b[1;32m    409\u001b[0m     show_progress\u001b[39m=\u001b[39;49mshow_progress,\n\u001b[1;32m    410\u001b[0m     ignore_file\u001b[39m=\u001b[39;49m\u001b[39mgetattr\u001b[39;49m(artifact, \u001b[39m\"\u001b[39;49m\u001b[39m_ignore_file\u001b[39;49m\u001b[39m\"\u001b[39;49m, \u001b[39mNone\u001b[39;49;00m),\n\u001b[1;32m    411\u001b[0m )\n\u001b[1;32m    412\u001b[0m indicator_file \u001b[39m=\u001b[39m uploaded_artifact\u001b[39m.\u001b[39mindicator_file  \u001b[39m# reference to storage contents\u001b[39;00m\n\u001b[1;32m    413\u001b[0m \u001b[39mif\u001b[39;00m artifact\u001b[39m.\u001b[39m_is_anonymous:\n",
      "File \u001b[0;32m/usr/local/Caskroom/miniconda/base/envs/albert-env/lib/python3.10/site-packages/azure/ai/ml/_artifacts/_artifact_utilities.py:297\u001b[0m, in \u001b[0;36m_upload_to_datastore\u001b[0;34m(operation_scope, datastore_operation, path, artifact_type, datastore_name, show_progress, asset_name, asset_version, asset_hash, ignore_file, sas_uri)\u001b[0m\n\u001b[1;32m    295\u001b[0m \u001b[39mif\u001b[39;00m \u001b[39mnot\u001b[39;00m asset_hash:\n\u001b[1;32m    296\u001b[0m     asset_hash \u001b[39m=\u001b[39m get_object_hash(path, ignore_file)\n\u001b[0;32m--> 297\u001b[0m artifact \u001b[39m=\u001b[39m upload_artifact(\n\u001b[1;32m    298\u001b[0m     \u001b[39mstr\u001b[39;49m(path),\n\u001b[1;32m    299\u001b[0m     datastore_operation,\n\u001b[1;32m    300\u001b[0m     operation_scope,\n\u001b[1;32m    301\u001b[0m     datastore_name,\n\u001b[1;32m    302\u001b[0m     show_progress\u001b[39m=\u001b[39;49mshow_progress,\n\u001b[1;32m    303\u001b[0m     asset_hash\u001b[39m=\u001b[39;49masset_hash,\n\u001b[1;32m    304\u001b[0m     asset_name\u001b[39m=\u001b[39;49masset_name,\n\u001b[1;32m    305\u001b[0m     asset_version\u001b[39m=\u001b[39;49masset_version,\n\u001b[1;32m    306\u001b[0m     ignore_file\u001b[39m=\u001b[39;49mignore_file,\n\u001b[1;32m    307\u001b[0m     sas_uri\u001b[39m=\u001b[39;49msas_uri,\n\u001b[1;32m    308\u001b[0m )\n\u001b[1;32m    309\u001b[0m \u001b[39mreturn\u001b[39;00m artifact\n",
      "File \u001b[0;32m/usr/local/Caskroom/miniconda/base/envs/albert-env/lib/python3.10/site-packages/azure/ai/ml/_artifacts/_artifact_utilities.py:175\u001b[0m, in \u001b[0;36mupload_artifact\u001b[0;34m(local_path, datastore_operation, operation_scope, datastore_name, asset_hash, show_progress, asset_name, asset_version, ignore_file, sas_uri)\u001b[0m\n\u001b[1;32m    173\u001b[0m \u001b[39melse\u001b[39;00m:\n\u001b[1;32m    174\u001b[0m     datastore_name \u001b[39m=\u001b[39m _get_datastore_name(datastore_name\u001b[39m=\u001b[39mdatastore_name)\n\u001b[0;32m--> 175\u001b[0m     datastore_info \u001b[39m=\u001b[39m get_datastore_info(datastore_operation, datastore_name)\n\u001b[1;32m    176\u001b[0m     storage_client \u001b[39m=\u001b[39m get_storage_client(\u001b[39m*\u001b[39m\u001b[39m*\u001b[39mdatastore_info)\n\u001b[1;32m    178\u001b[0m artifact_info \u001b[39m=\u001b[39m storage_client\u001b[39m.\u001b[39mupload(\n\u001b[1;32m    179\u001b[0m     local_path,\n\u001b[1;32m    180\u001b[0m     asset_hash\u001b[39m=\u001b[39masset_hash,\n\u001b[0;32m   (...)\u001b[0m\n\u001b[1;32m    184\u001b[0m     ignore_file\u001b[39m=\u001b[39mignore_file,\n\u001b[1;32m    185\u001b[0m )\n",
      "File \u001b[0;32m/usr/local/Caskroom/miniconda/base/envs/albert-env/lib/python3.10/site-packages/azure/ai/ml/_artifacts/_artifact_utilities.py:68\u001b[0m, in \u001b[0;36mget_datastore_info\u001b[0;34m(operations, name)\u001b[0m\n\u001b[1;32m     66\u001b[0m datastore_info \u001b[39m=\u001b[39m {}\n\u001b[1;32m     67\u001b[0m \u001b[39mif\u001b[39;00m name:\n\u001b[0;32m---> 68\u001b[0m     datastore \u001b[39m=\u001b[39m operations\u001b[39m.\u001b[39;49mget(name, include_secrets\u001b[39m=\u001b[39;49m\u001b[39mTrue\u001b[39;49;00m)\n\u001b[1;32m     69\u001b[0m \u001b[39melse\u001b[39;00m:\n\u001b[1;32m     70\u001b[0m     datastore \u001b[39m=\u001b[39m operations\u001b[39m.\u001b[39mget_default(include_secrets\u001b[39m=\u001b[39m\u001b[39mTrue\u001b[39;00m)\n",
      "File \u001b[0;32m/usr/local/Caskroom/miniconda/base/envs/albert-env/lib/python3.10/site-packages/azure/ai/ml/operations/_datastore_operations.py:106\u001b[0m, in \u001b[0;36mDatastoreOperations.get\u001b[0;34m(self, name, include_secrets)\u001b[0m\n\u001b[1;32m     95\u001b[0m \u001b[39m\"\"\"Returns information about the datastore referenced by the given\u001b[39;00m\n\u001b[1;32m     96\u001b[0m \u001b[39mname.\u001b[39;00m\n\u001b[1;32m     97\u001b[0m \n\u001b[0;32m   (...)\u001b[0m\n\u001b[1;32m    103\u001b[0m \u001b[39m:rtype: Datastore\u001b[39;00m\n\u001b[1;32m    104\u001b[0m \u001b[39m\"\"\"\u001b[39;00m\n\u001b[1;32m    105\u001b[0m \u001b[39mtry\u001b[39;00m:\n\u001b[0;32m--> 106\u001b[0m     datastore_resource \u001b[39m=\u001b[39m \u001b[39mself\u001b[39;49m\u001b[39m.\u001b[39;49m_operation\u001b[39m.\u001b[39;49mget(\n\u001b[1;32m    107\u001b[0m         name\u001b[39m=\u001b[39;49mname,\n\u001b[1;32m    108\u001b[0m         resource_group_name\u001b[39m=\u001b[39;49m\u001b[39mself\u001b[39;49m\u001b[39m.\u001b[39;49m_operation_scope\u001b[39m.\u001b[39;49mresource_group_name,\n\u001b[1;32m    109\u001b[0m         workspace_name\u001b[39m=\u001b[39;49m\u001b[39mself\u001b[39;49m\u001b[39m.\u001b[39;49m_workspace_name,\n\u001b[1;32m    110\u001b[0m         \u001b[39m*\u001b[39;49m\u001b[39m*\u001b[39;49m\u001b[39mself\u001b[39;49m\u001b[39m.\u001b[39;49m_init_kwargs\n\u001b[1;32m    111\u001b[0m     )\n\u001b[1;32m    112\u001b[0m     \u001b[39mif\u001b[39;00m include_secrets:\n\u001b[1;32m    113\u001b[0m         \u001b[39mself\u001b[39m\u001b[39m.\u001b[39m_fetch_and_populate_secret(datastore_resource)\n",
      "File \u001b[0;32m/usr/local/Caskroom/miniconda/base/envs/albert-env/lib/python3.10/site-packages/azure/core/tracing/decorator.py:78\u001b[0m, in \u001b[0;36mdistributed_trace.<locals>.decorator.<locals>.wrapper_use_tracer\u001b[0;34m(*args, **kwargs)\u001b[0m\n\u001b[1;32m     76\u001b[0m span_impl_type \u001b[39m=\u001b[39m settings\u001b[39m.\u001b[39mtracing_implementation()\n\u001b[1;32m     77\u001b[0m \u001b[39mif\u001b[39;00m span_impl_type \u001b[39mis\u001b[39;00m \u001b[39mNone\u001b[39;00m:\n\u001b[0;32m---> 78\u001b[0m     \u001b[39mreturn\u001b[39;00m func(\u001b[39m*\u001b[39;49margs, \u001b[39m*\u001b[39;49m\u001b[39m*\u001b[39;49mkwargs)\n\u001b[1;32m     80\u001b[0m \u001b[39m# Merge span is parameter is set, but only if no explicit parent are passed\u001b[39;00m\n\u001b[1;32m     81\u001b[0m \u001b[39mif\u001b[39;00m merge_span \u001b[39mand\u001b[39;00m \u001b[39mnot\u001b[39;00m passed_in_parent:\n",
      "File \u001b[0;32m/usr/local/Caskroom/miniconda/base/envs/albert-env/lib/python3.10/site-packages/azure/ai/ml/_restclient/v2022_05_01/operations/_datastores_operations.py:483\u001b[0m, in \u001b[0;36mDatastoresOperations.get\u001b[0;34m(self, resource_group_name, workspace_name, name, **kwargs)\u001b[0m\n\u001b[1;32m    480\u001b[0m request \u001b[39m=\u001b[39m _convert_request(request)\n\u001b[1;32m    481\u001b[0m request\u001b[39m.\u001b[39murl \u001b[39m=\u001b[39m \u001b[39mself\u001b[39m\u001b[39m.\u001b[39m_client\u001b[39m.\u001b[39mformat_url(request\u001b[39m.\u001b[39murl)\n\u001b[0;32m--> 483\u001b[0m pipeline_response \u001b[39m=\u001b[39m \u001b[39mself\u001b[39;49m\u001b[39m.\u001b[39;49m_client\u001b[39m.\u001b[39;49m_pipeline\u001b[39m.\u001b[39;49mrun(request, stream\u001b[39m=\u001b[39;49m\u001b[39mFalse\u001b[39;49;00m, \u001b[39m*\u001b[39;49m\u001b[39m*\u001b[39;49mkwargs)\n\u001b[1;32m    484\u001b[0m response \u001b[39m=\u001b[39m pipeline_response\u001b[39m.\u001b[39mhttp_response\n\u001b[1;32m    486\u001b[0m \u001b[39mif\u001b[39;00m response\u001b[39m.\u001b[39mstatus_code \u001b[39mnot\u001b[39;00m \u001b[39min\u001b[39;00m [\u001b[39m200\u001b[39m]:\n",
      "File \u001b[0;32m/usr/local/Caskroom/miniconda/base/envs/albert-env/lib/python3.10/site-packages/azure/core/pipeline/_base.py:211\u001b[0m, in \u001b[0;36mPipeline.run\u001b[0;34m(self, request, **kwargs)\u001b[0m\n\u001b[1;32m    203\u001b[0m pipeline_request \u001b[39m=\u001b[39m PipelineRequest(\n\u001b[1;32m    204\u001b[0m     request, context\n\u001b[1;32m    205\u001b[0m )  \u001b[39m# type: PipelineRequest[HTTPRequestType]\u001b[39;00m\n\u001b[1;32m    206\u001b[0m first_node \u001b[39m=\u001b[39m (\n\u001b[1;32m    207\u001b[0m     \u001b[39mself\u001b[39m\u001b[39m.\u001b[39m_impl_policies[\u001b[39m0\u001b[39m]\n\u001b[1;32m    208\u001b[0m     \u001b[39mif\u001b[39;00m \u001b[39mself\u001b[39m\u001b[39m.\u001b[39m_impl_policies\n\u001b[1;32m    209\u001b[0m     \u001b[39melse\u001b[39;00m _TransportRunner(\u001b[39mself\u001b[39m\u001b[39m.\u001b[39m_transport)\n\u001b[1;32m    210\u001b[0m )\n\u001b[0;32m--> 211\u001b[0m \u001b[39mreturn\u001b[39;00m first_node\u001b[39m.\u001b[39;49msend(pipeline_request)\n",
      "File \u001b[0;32m/usr/local/Caskroom/miniconda/base/envs/albert-env/lib/python3.10/site-packages/azure/core/pipeline/_base.py:71\u001b[0m, in \u001b[0;36m_SansIOHTTPPolicyRunner.send\u001b[0;34m(self, request)\u001b[0m\n\u001b[1;32m     69\u001b[0m _await_result(\u001b[39mself\u001b[39m\u001b[39m.\u001b[39m_policy\u001b[39m.\u001b[39mon_request, request)\n\u001b[1;32m     70\u001b[0m \u001b[39mtry\u001b[39;00m:\n\u001b[0;32m---> 71\u001b[0m     response \u001b[39m=\u001b[39m \u001b[39mself\u001b[39;49m\u001b[39m.\u001b[39;49mnext\u001b[39m.\u001b[39;49msend(request)\n\u001b[1;32m     72\u001b[0m \u001b[39mexcept\u001b[39;00m \u001b[39mException\u001b[39;00m:  \u001b[39m# pylint: disable=broad-except\u001b[39;00m\n\u001b[1;32m     73\u001b[0m     _await_result(\u001b[39mself\u001b[39m\u001b[39m.\u001b[39m_policy\u001b[39m.\u001b[39mon_exception, request)\n",
      "File \u001b[0;32m/usr/local/Caskroom/miniconda/base/envs/albert-env/lib/python3.10/site-packages/azure/core/pipeline/_base.py:71\u001b[0m, in \u001b[0;36m_SansIOHTTPPolicyRunner.send\u001b[0;34m(self, request)\u001b[0m\n\u001b[1;32m     69\u001b[0m _await_result(\u001b[39mself\u001b[39m\u001b[39m.\u001b[39m_policy\u001b[39m.\u001b[39mon_request, request)\n\u001b[1;32m     70\u001b[0m \u001b[39mtry\u001b[39;00m:\n\u001b[0;32m---> 71\u001b[0m     response \u001b[39m=\u001b[39m \u001b[39mself\u001b[39;49m\u001b[39m.\u001b[39;49mnext\u001b[39m.\u001b[39;49msend(request)\n\u001b[1;32m     72\u001b[0m \u001b[39mexcept\u001b[39;00m \u001b[39mException\u001b[39;00m:  \u001b[39m# pylint: disable=broad-except\u001b[39;00m\n\u001b[1;32m     73\u001b[0m     _await_result(\u001b[39mself\u001b[39m\u001b[39m.\u001b[39m_policy\u001b[39m.\u001b[39mon_exception, request)\n",
      "    \u001b[0;31m[... skipping similar frames: _SansIOHTTPPolicyRunner.send at line 71 (2 times)]\u001b[0m\n",
      "File \u001b[0;32m/usr/local/Caskroom/miniconda/base/envs/albert-env/lib/python3.10/site-packages/azure/core/pipeline/_base.py:71\u001b[0m, in \u001b[0;36m_SansIOHTTPPolicyRunner.send\u001b[0;34m(self, request)\u001b[0m\n\u001b[1;32m     69\u001b[0m _await_result(\u001b[39mself\u001b[39m\u001b[39m.\u001b[39m_policy\u001b[39m.\u001b[39mon_request, request)\n\u001b[1;32m     70\u001b[0m \u001b[39mtry\u001b[39;00m:\n\u001b[0;32m---> 71\u001b[0m     response \u001b[39m=\u001b[39m \u001b[39mself\u001b[39;49m\u001b[39m.\u001b[39;49mnext\u001b[39m.\u001b[39;49msend(request)\n\u001b[1;32m     72\u001b[0m \u001b[39mexcept\u001b[39;00m \u001b[39mException\u001b[39;00m:  \u001b[39m# pylint: disable=broad-except\u001b[39;00m\n\u001b[1;32m     73\u001b[0m     _await_result(\u001b[39mself\u001b[39m\u001b[39m.\u001b[39m_policy\u001b[39m.\u001b[39mon_exception, request)\n",
      "File \u001b[0;32m/usr/local/Caskroom/miniconda/base/envs/albert-env/lib/python3.10/site-packages/azure/mgmt/core/policies/_base.py:47\u001b[0m, in \u001b[0;36mARMAutoResourceProviderRegistrationPolicy.send\u001b[0;34m(self, request)\u001b[0m\n\u001b[1;32m     44\u001b[0m \u001b[39mdef\u001b[39;00m \u001b[39msend\u001b[39m(\u001b[39mself\u001b[39m, request):\n\u001b[1;32m     45\u001b[0m     \u001b[39m# type: (PipelineRequest[HTTPRequestType], Any) -> PipelineResponse[HTTPRequestType, HTTPResponseType]\u001b[39;00m\n\u001b[1;32m     46\u001b[0m     http_request \u001b[39m=\u001b[39m request\u001b[39m.\u001b[39mhttp_request\n\u001b[0;32m---> 47\u001b[0m     response \u001b[39m=\u001b[39m \u001b[39mself\u001b[39;49m\u001b[39m.\u001b[39;49mnext\u001b[39m.\u001b[39;49msend(request)\n\u001b[1;32m     48\u001b[0m     \u001b[39mif\u001b[39;00m response\u001b[39m.\u001b[39mhttp_response\u001b[39m.\u001b[39mstatus_code \u001b[39m==\u001b[39m \u001b[39m409\u001b[39m:\n\u001b[1;32m     49\u001b[0m         rp_name \u001b[39m=\u001b[39m \u001b[39mself\u001b[39m\u001b[39m.\u001b[39m_check_rp_not_registered_err(response)\n",
      "File \u001b[0;32m/usr/local/Caskroom/miniconda/base/envs/albert-env/lib/python3.10/site-packages/azure/core/pipeline/policies/_redirect.py:153\u001b[0m, in \u001b[0;36mRedirectPolicy.send\u001b[0;34m(self, request)\u001b[0m\n\u001b[1;32m    151\u001b[0m redirect_settings \u001b[39m=\u001b[39m \u001b[39mself\u001b[39m\u001b[39m.\u001b[39mconfigure_redirects(request\u001b[39m.\u001b[39mcontext\u001b[39m.\u001b[39moptions)\n\u001b[1;32m    152\u001b[0m \u001b[39mwhile\u001b[39;00m retryable:\n\u001b[0;32m--> 153\u001b[0m     response \u001b[39m=\u001b[39m \u001b[39mself\u001b[39;49m\u001b[39m.\u001b[39;49mnext\u001b[39m.\u001b[39;49msend(request)\n\u001b[1;32m    154\u001b[0m     redirect_location \u001b[39m=\u001b[39m \u001b[39mself\u001b[39m\u001b[39m.\u001b[39mget_redirect_location(response)\n\u001b[1;32m    155\u001b[0m     \u001b[39mif\u001b[39;00m redirect_location \u001b[39mand\u001b[39;00m redirect_settings[\u001b[39m'\u001b[39m\u001b[39mallow\u001b[39m\u001b[39m'\u001b[39m]:\n",
      "File \u001b[0;32m/usr/local/Caskroom/miniconda/base/envs/albert-env/lib/python3.10/site-packages/azure/core/pipeline/policies/_retry.py:445\u001b[0m, in \u001b[0;36mRetryPolicy.send\u001b[0;34m(self, request)\u001b[0m\n\u001b[1;32m    443\u001b[0m start_time \u001b[39m=\u001b[39m time\u001b[39m.\u001b[39mtime()\n\u001b[1;32m    444\u001b[0m \u001b[39mself\u001b[39m\u001b[39m.\u001b[39m_configure_timeout(request, absolute_timeout, is_response_error)\n\u001b[0;32m--> 445\u001b[0m response \u001b[39m=\u001b[39m \u001b[39mself\u001b[39;49m\u001b[39m.\u001b[39;49mnext\u001b[39m.\u001b[39;49msend(request)\n\u001b[1;32m    446\u001b[0m \u001b[39mif\u001b[39;00m \u001b[39mself\u001b[39m\u001b[39m.\u001b[39mis_retry(retry_settings, response):\n\u001b[1;32m    447\u001b[0m     retry_active \u001b[39m=\u001b[39m \u001b[39mself\u001b[39m\u001b[39m.\u001b[39mincrement(retry_settings, response\u001b[39m=\u001b[39mresponse)\n",
      "File \u001b[0;32m/usr/local/Caskroom/miniconda/base/envs/albert-env/lib/python3.10/site-packages/azure/core/pipeline/policies/_authentication.py:111\u001b[0m, in \u001b[0;36mBearerTokenCredentialPolicy.send\u001b[0;34m(self, request)\u001b[0m\n\u001b[1;32m    104\u001b[0m \u001b[39mdef\u001b[39;00m \u001b[39msend\u001b[39m(\u001b[39mself\u001b[39m, request):\n\u001b[1;32m    105\u001b[0m     \u001b[39m# type: (PipelineRequest) -> PipelineResponse\u001b[39;00m\n\u001b[1;32m    106\u001b[0m     \u001b[39m\"\"\"Authorize request with a bearer token and send it to the next policy\u001b[39;00m\n\u001b[1;32m    107\u001b[0m \n\u001b[1;32m    108\u001b[0m \u001b[39m    :param request: The pipeline request object\u001b[39;00m\n\u001b[1;32m    109\u001b[0m \u001b[39m    :type request: ~azure.core.pipeline.PipelineRequest\u001b[39;00m\n\u001b[1;32m    110\u001b[0m \u001b[39m    \"\"\"\u001b[39;00m\n\u001b[0;32m--> 111\u001b[0m     \u001b[39mself\u001b[39;49m\u001b[39m.\u001b[39;49mon_request(request)\n\u001b[1;32m    112\u001b[0m     \u001b[39mtry\u001b[39;00m:\n\u001b[1;32m    113\u001b[0m         response \u001b[39m=\u001b[39m \u001b[39mself\u001b[39m\u001b[39m.\u001b[39mnext\u001b[39m.\u001b[39msend(request)\n",
      "File \u001b[0;32m/usr/local/Caskroom/miniconda/base/envs/albert-env/lib/python3.10/site-packages/azure/core/pipeline/policies/_authentication.py:88\u001b[0m, in \u001b[0;36mBearerTokenCredentialPolicy.on_request\u001b[0;34m(self, request)\u001b[0m\n\u001b[1;32m     85\u001b[0m \u001b[39mself\u001b[39m\u001b[39m.\u001b[39m_enforce_https(request)\n\u001b[1;32m     87\u001b[0m \u001b[39mif\u001b[39;00m \u001b[39mself\u001b[39m\u001b[39m.\u001b[39m_token \u001b[39mis\u001b[39;00m \u001b[39mNone\u001b[39;00m \u001b[39mor\u001b[39;00m \u001b[39mself\u001b[39m\u001b[39m.\u001b[39m_need_new_token:\n\u001b[0;32m---> 88\u001b[0m     \u001b[39mself\u001b[39m\u001b[39m.\u001b[39m_token \u001b[39m=\u001b[39m \u001b[39mself\u001b[39;49m\u001b[39m.\u001b[39;49m_credential\u001b[39m.\u001b[39;49mget_token(\u001b[39m*\u001b[39;49m\u001b[39mself\u001b[39;49m\u001b[39m.\u001b[39;49m_scopes)\n\u001b[1;32m     89\u001b[0m \u001b[39mself\u001b[39m\u001b[39m.\u001b[39m_update_headers(request\u001b[39m.\u001b[39mhttp_request\u001b[39m.\u001b[39mheaders, \u001b[39mself\u001b[39m\u001b[39m.\u001b[39m_token\u001b[39m.\u001b[39mtoken)\n",
      "File \u001b[0;32m/usr/local/Caskroom/miniconda/base/envs/albert-env/lib/python3.10/site-packages/azure/identity/_credentials/default.py:168\u001b[0m, in \u001b[0;36mDefaultAzureCredential.get_token\u001b[0;34m(self, *scopes, **kwargs)\u001b[0m\n\u001b[1;32m    163\u001b[0m     _LOGGER\u001b[39m.\u001b[39minfo(\n\u001b[1;32m    164\u001b[0m         \u001b[39m\"\u001b[39m\u001b[39m%s\u001b[39;00m\u001b[39m acquired a token from \u001b[39m\u001b[39m%s\u001b[39;00m\u001b[39m\"\u001b[39m, \u001b[39mself\u001b[39m\u001b[39m.\u001b[39m\u001b[39m__class__\u001b[39m\u001b[39m.\u001b[39m\u001b[39m__name__\u001b[39m, \u001b[39mself\u001b[39m\u001b[39m.\u001b[39m_successful_credential\u001b[39m.\u001b[39m\u001b[39m__class__\u001b[39m\u001b[39m.\u001b[39m\u001b[39m__name__\u001b[39m\n\u001b[1;32m    165\u001b[0m     )\n\u001b[1;32m    166\u001b[0m     \u001b[39mreturn\u001b[39;00m token\n\u001b[0;32m--> 168\u001b[0m \u001b[39mreturn\u001b[39;00m \u001b[39msuper\u001b[39;49m(DefaultAzureCredential, \u001b[39mself\u001b[39;49m)\u001b[39m.\u001b[39;49mget_token(\u001b[39m*\u001b[39;49mscopes, \u001b[39m*\u001b[39;49m\u001b[39m*\u001b[39;49mkwargs)\n",
      "File \u001b[0;32m/usr/local/Caskroom/miniconda/base/envs/albert-env/lib/python3.10/site-packages/azure/identity/_credentials/chained.py:101\u001b[0m, in \u001b[0;36mChainedTokenCredential.get_token\u001b[0;34m(self, *scopes, **kwargs)\u001b[0m\n\u001b[1;32m     97\u001b[0m message \u001b[39m=\u001b[39m \u001b[39mself\u001b[39m\u001b[39m.\u001b[39m\u001b[39m__class__\u001b[39m\u001b[39m.\u001b[39m\u001b[39m__name__\u001b[39m \u001b[39m+\u001b[39m \u001b[39m\"\u001b[39m\u001b[39m failed to retrieve a token from the included credentials.\u001b[39m\u001b[39m\"\u001b[39m \u001b[39m+\u001b[39m attempts \\\n\u001b[1;32m     98\u001b[0m           \u001b[39m+\u001b[39m \u001b[39m\"\u001b[39m\u001b[39m\\n\u001b[39;00m\u001b[39mTo mitigate this issue, please refer to the troubleshooting guidelines here at \u001b[39m\u001b[39m\"\u001b[39m \\\n\u001b[1;32m     99\u001b[0m             \u001b[39m\"\u001b[39m\u001b[39mhttps://aka.ms/azsdk/python/identity/defaultazurecredential/troubleshoot.\u001b[39m\u001b[39m\"\u001b[39m\n\u001b[1;32m    100\u001b[0m _LOGGER\u001b[39m.\u001b[39mwarning(message)\n\u001b[0;32m--> 101\u001b[0m \u001b[39mraise\u001b[39;00m ClientAuthenticationError(message\u001b[39m=\u001b[39mmessage)\n",
      "\u001b[0;31mClientAuthenticationError\u001b[0m: DefaultAzureCredential failed to retrieve a token from the included credentials.\nAttempted credentials:\n\tEnvironmentCredential: EnvironmentCredential authentication unavailable. Environment variables are not fully configured.\nVisit https://aka.ms/azsdk/python/identity/environmentcredential/troubleshoot to troubleshoot.this issue.\n\tManagedIdentityCredential: ManagedIdentityCredential authentication unavailable, no response from the IMDS endpoint.\n\tSharedTokenCacheCredential: Azure Active Directory error '(invalid_grant) AADSTS70043: The refresh token has expired or is invalid due to sign-in frequency checks by conditional access. The token was issued on 2022-12-26T10:19:15.8483413Z and the maximum allowed lifetime for this request is 36000.\r\nTrace ID: ab4c1d28-f09f-4db5-93f9-939119b11d00\r\nCorrelation ID: c5de35f1-b301-4083-8d76-f232f179bdd8\r\nTimestamp: 2022-12-27 10:30:29Z'\nContent: {\"error\":\"invalid_grant\",\"error_description\":\"AADSTS70043: The refresh token has expired or is invalid due to sign-in frequency checks by conditional access. The token was issued on 2022-12-26T10:19:15.8483413Z and the maximum allowed lifetime for this request is 36000.\\r\\nTrace ID: ab4c1d28-f09f-4db5-93f9-939119b11d00\\r\\nCorrelation ID: c5de35f1-b301-4083-8d76-f232f179bdd8\\r\\nTimestamp: 2022-12-27 10:30:29Z\",\"error_codes\":[70043],\"timestamp\":\"2022-12-27 10:30:29Z\",\"trace_id\":\"ab4c1d28-f09f-4db5-93f9-939119b11d00\",\"correlation_id\":\"c5de35f1-b301-4083-8d76-f232f179bdd8\",\"suberror\":\"token_expired\"}\nTo mitigate this issue, please refer to the troubleshooting guidelines here at https://aka.ms/azsdk/python/identity/defaultazurecredential/troubleshoot."
     ]
    }
   ],
   "source": [
    "file_model = Model(\n",
    "    path=\"traced-albert.pt\",\n",
    "    type=AssetTypes.CUSTOM_MODEL,\n",
    "    name=\"traced-albert\",\n",
    "    description=\"Model created from local file.\",\n",
    ")\n",
    "ml_client.models.create_or_update(file_model)"
   ]
  },
  {
   "attachments": {},
   "cell_type": "markdown",
   "metadata": {},
   "source": [
    "## Create scoring file"
   ]
  },
  {
   "cell_type": "code",
   "execution_count": 8,
   "metadata": {},
   "outputs": [
    {
     "name": "stdout",
     "output_type": "stream",
     "text": [
      "Overwriting score.py\n"
     ]
    }
   ],
   "source": [
    "%%writefile score.py\n",
    "from transformers import AlbertConfig, AlbertModel, AlbertTokenizer\n",
    "from transformers.onnx import FeaturesManager\n",
    "from transformers import AdamW, get_linear_schedule_with_warmup\n",
    "import torch\n",
    "import torch.nn as nn\n",
    "import torch.nn.functional as F\n",
    "import numpy as np\n",
    "import os\n",
    "import logging\n",
    "import json\n",
    "import onnxruntime\n",
    "\n",
    "def init():\n",
    "    global tokenizer, albert, session\n",
    "    # load ALBERT model\n",
    "    albert = AlbertModel.from_pretrained('albert-base-v2', output_hidden_states=True).to(device)\n",
    "    tokenizer = AlbertTokenizer.from_pretrained('albert-base-v2')\n",
    "    albert.eval()\n",
    "\n",
    "    # create onnx runtime and load onnx model\n",
    "    # session = onnxruntime.InferenceSession(model_path, providers=[\"CPUExecutionProvider\"])\n",
    "\n",
    "def preprocess(text:str):\n",
    "    '''\n",
    "    This function preprocesses text data from the speech2text (https://azure.microsoft.com/en-us/products/cognitive-services/speech-to-text/#features) and uses the tokenizer stored in the global variable.\n",
    "\n",
    "    Params\n",
    "    ------\n",
    "        text:str - Sentencte from speech2text\n",
    "\n",
    "    Returns\n",
    "    -------\n",
    "        token_tensor:torch.Tensor - Tensor with ids\n",
    "        segments_tensor:torch.Tensor - Tensor with segments\n",
    "    '''\n",
    "    tokens = tokenizer.tokenize(text)\n",
    "    token_tensor = torch.tensor(tokenizer.encode(tokens)).unsqueeze(0)\n",
    "    segments_tensor = torch.tensor([1] * token_tensor.shape[1]).unsqueeze(0)\n",
    "    return token_tensor, segments_tensor\n",
    "\n",
    "def run(input:str) -> torch.Tensor:\n",
    "    '''\n",
    "    Transforms tokens_tensor and segments_tensor into Embedding with the Albert Model.\n",
    "\n",
    "    Params\n",
    "    ------\n",
    "        token_tensor:torch.Tensor - Tensor with ids\n",
    "        segments_tensor:torch.Tensor - Tensor with segments\n",
    "\n",
    "    Returns\n",
    "    -------\n",
    "        embedding_vector:torch.Tensor - Vector with Embeddings from Albert\n",
    "    '''\n",
    "    # read and log input\n",
    "    logging.info(\"Request received\")\n",
    "    input = json.loads(input)\n",
    "    logging.info(input)\n",
    "\n",
    "    # preprocess\n",
    "    logging.info(\"Preprocessing ...\")\n",
    "    token_tensor, segments_tensor = preprocess(text=input['text'])\n",
    "\n",
    "    # process\n",
    "    logging.info(\"Processing ...\")\n",
    "    albert.eval()\n",
    "    with torch.no_grad():\n",
    "        output = albert(token_tensor, segments_tensor)\n",
    "    hidden_states = output[2][1:]\n",
    "    embedding = torch.stack(hidden_states, dim=0).mean(dim=0).mean(dim=1)\n",
    "    logging.info(\"Processed:\\n\", embedding)\n",
    "\n",
    "    # create json\n",
    "    logging.info(\"Creating json ...\")\n",
    "    \n",
    "\n",
    "\n",
    "    return [1,2,3]"
   ]
  },
  {
   "attachments": {},
   "cell_type": "markdown",
   "metadata": {},
   "source": [
    "## Connect to Azure Machine Learning workspace"
   ]
  },
  {
   "cell_type": "code",
   "execution_count": 2,
   "metadata": {},
   "outputs": [],
   "source": [
    "from azure.ai.ml.entities import (\n",
    "    ManagedOnlineEndpoint,\n",
    "    ManagedOnlineDeployment,\n",
    "    Model,\n",
    "    Environment,\n",
    "    CodeConfiguration,\n",
    ")"
   ]
  },
  {
   "attachments": {},
   "cell_type": "markdown",
   "metadata": {},
   "source": [
    "## Create local endpoint"
   ]
  },
  {
   "cell_type": "code",
   "execution_count": 4,
   "metadata": {},
   "outputs": [],
   "source": [
    "# Creating a local endpoint\n",
    "import datetime\n",
    "\n",
    "local_endpoint_name = \"local-\" + datetime.datetime.now().strftime(\"%m%d%H%M%f\")\n",
    "\n",
    "# create an online endpoint\n",
    "endpoint = ManagedOnlineEndpoint(\n",
    "  name=local_endpoint_name, description=\"this is a sample local endpoint\"\n",
    ")"
   ]
  },
  {
   "cell_type": "code",
   "execution_count": 44,
   "metadata": {},
   "outputs": [],
   "source": [
    "env = Environment(\n",
    "    conda_file=\"environment.yml\",\n",
    "    image=\"mcr.microsoft.com/azureml/openmpi4.1.0-ubuntu20.04:latest\",\n",
    ")\n",
    "\n",
    "blue_deployment = ManagedOnlineDeployment(\n",
    "    name=\"blue\",\n",
    "    endpoint_name=local_endpoint_name,\n",
    "    model=model,\n",
    "    environment=env,\n",
    "    code_configuration=CodeConfiguration(scoring_script=\"score.py\", ),\n",
    "    instance_type=\"Standard_DS2_v2\",\n",
    "    instance_count=1,\n",
    ")"
   ]
  },
  {
   "cell_type": "code",
   "execution_count": 45,
   "metadata": {},
   "outputs": [
    {
     "name": "stderr",
     "output_type": "stream",
     "text": [
      "Updating local endpoint (local-12271054622660) .Done (0m 5s)\n"
     ]
    },
    {
     "data": {
      "text/plain": [
       "ManagedOnlineEndpoint({'public_network_access': None, 'provisioning_state': None, 'scoring_uri': None, 'openapi_uri': None, 'name': 'local-12271054622660', 'description': 'this is a sample local endpoint', 'tags': {}, 'properties': {}, 'id': None, 'Resource__source_path': None, 'base_path': PosixPath('/Users/ronnyschneeberger/.azureml/inferencing/local-12271054622660'), 'creation_context': None, 'serialize': <msrest.serialization.Serializer object at 0x7fa0c496ab90>, 'auth_mode': 'key', 'location': None, 'identity': None, 'traffic': {}, 'mirror_traffic': {}, 'kind': None})"
      ]
     },
     "execution_count": 45,
     "metadata": {},
     "output_type": "execute_result"
    }
   ],
   "source": [
    "ml_client.online_endpoints.begin_create_or_update(endpoint, local=True)"
   ]
  },
  {
   "cell_type": "code",
   "execution_count": 46,
   "metadata": {},
   "outputs": [
    {
     "ename": "Exception",
     "evalue": "['Non-string passed to RegistryStr for model', 'Non-string passed to ArmStr for model', \"Value <bound method Module.type of AlbertModel(\\n  (embeddings): AlbertEmbeddings(\\n    (word_embeddings): Embedding(30000, 128, padding_idx=0)\\n    (position_embeddings): Embedding(512, 128)\\n    (token_type_embeddings): Embedding(2, 128)\\n    (LayerNorm): LayerNorm((128,), eps=1e-12, elementwise_affine=True)\\n    (dropout): Dropout(p=0, inplace=False)\\n  )\\n  (encoder): AlbertTransformer(\\n    (embedding_hidden_mapping_in): Linear(in_features=128, out_features=768, bias=True)\\n    (albert_layer_groups): ModuleList(\\n      (0): AlbertLayerGroup(\\n        (albert_layers): ModuleList(\\n          (0): AlbertLayer(\\n            (full_layer_layer_norm): LayerNorm((768,), eps=1e-12, elementwise_affine=True)\\n            (attention): AlbertAttention(\\n              (query): Linear(in_features=768, out_features=768, bias=True)\\n              (key): Linear(in_features=768, out_features=768, bias=True)\\n              (value): Linear(in_features=768, out_features=768, bias=True)\\n              (attention_dropout): Dropout(p=0, inplace=False)\\n              (output_dropout): Dropout(p=0, inplace=False)\\n              (dense): Linear(in_features=768, out_features=768, bias=True)\\n              (LayerNorm): LayerNorm((768,), eps=1e-12, elementwise_affine=True)\\n            )\\n            (ffn): Linear(in_features=768, out_features=3072, bias=True)\\n            (ffn_output): Linear(in_features=3072, out_features=768, bias=True)\\n            (activation): NewGELUActivation()\\n            (dropout): Dropout(p=0, inplace=False)\\n          )\\n        )\\n      )\\n    )\\n  )\\n  (pooler): Linear(in_features=768, out_features=768, bias=True)\\n  (pooler_activation): Tanh()\\n)> passed is not in set ['custom_model', 'mlflow_model', 'triton_model']\"]",
     "output_type": "error",
     "traceback": [
      "\u001b[0;31m---------------------------------------------------------------------------\u001b[0m",
      "\u001b[0;31mValidationError\u001b[0m                           Traceback (most recent call last)",
      "File \u001b[0;32m/usr/local/Caskroom/miniconda/base/envs/albert-env/lib/python3.10/site-packages/azure/ai/ml/operations/_local_deployment_helper.py:75\u001b[0m, in \u001b[0;36m_LocalDeploymentHelper.create_or_update\u001b[0;34m(self, deployment, local_endpoint_mode)\u001b[0m\n\u001b[1;32m     73\u001b[0m     operation_message \u001b[39m=\u001b[39m \u001b[39m\"\u001b[39m\u001b[39mCreating local deployment\u001b[39m\u001b[39m\"\u001b[39m\n\u001b[0;32m---> 75\u001b[0m deployment_metadata \u001b[39m=\u001b[39m json\u001b[39m.\u001b[39mdumps(deployment\u001b[39m.\u001b[39;49m_to_dict())\n\u001b[1;32m     76\u001b[0m endpoint_metadata \u001b[39m=\u001b[39m (\n\u001b[1;32m     77\u001b[0m     endpoint_metadata\n\u001b[1;32m     78\u001b[0m     \u001b[39mif\u001b[39;00m endpoint_metadata\n\u001b[1;32m     79\u001b[0m     \u001b[39melse\u001b[39;00m _get_stubbed_endpoint_metadata(endpoint_name\u001b[39m=\u001b[39mdeployment\u001b[39m.\u001b[39mendpoint_name)\n\u001b[1;32m     80\u001b[0m )\n",
      "File \u001b[0;32m/usr/local/Caskroom/miniconda/base/envs/albert-env/lib/python3.10/site-packages/azure/ai/ml/entities/_deployment/online_deployment.py:585\u001b[0m, in \u001b[0;36mManagedOnlineDeployment._to_dict\u001b[0;34m(self)\u001b[0m\n\u001b[1;32m    584\u001b[0m \u001b[39mdef\u001b[39;00m \u001b[39m_to_dict\u001b[39m(\u001b[39mself\u001b[39m) \u001b[39m-\u001b[39m\u001b[39m>\u001b[39m Dict:\n\u001b[0;32m--> 585\u001b[0m     \u001b[39mreturn\u001b[39;00m ManagedOnlineDeploymentSchema(context\u001b[39m=\u001b[39;49m{BASE_PATH_CONTEXT_KEY: \u001b[39m\"\u001b[39;49m\u001b[39m./\u001b[39;49m\u001b[39m\"\u001b[39;49m})\u001b[39m.\u001b[39;49mdump(\u001b[39mself\u001b[39;49m)\n",
      "File \u001b[0;32m/usr/local/Caskroom/miniconda/base/envs/albert-env/lib/python3.10/site-packages/marshmallow/schema.py:557\u001b[0m, in \u001b[0;36mSchema.dump\u001b[0;34m(self, obj, many)\u001b[0m\n\u001b[1;32m    555\u001b[0m     processed_obj \u001b[39m=\u001b[39m obj\n\u001b[0;32m--> 557\u001b[0m result \u001b[39m=\u001b[39m \u001b[39mself\u001b[39;49m\u001b[39m.\u001b[39;49m_serialize(processed_obj, many\u001b[39m=\u001b[39;49mmany)\n\u001b[1;32m    559\u001b[0m \u001b[39mif\u001b[39;00m \u001b[39mself\u001b[39m\u001b[39m.\u001b[39m_has_processors(POST_DUMP):\n",
      "File \u001b[0;32m/usr/local/Caskroom/miniconda/base/envs/albert-env/lib/python3.10/site-packages/marshmallow/schema.py:525\u001b[0m, in \u001b[0;36mSchema._serialize\u001b[0;34m(self, obj, many)\u001b[0m\n\u001b[1;32m    524\u001b[0m \u001b[39mfor\u001b[39;00m attr_name, field_obj \u001b[39min\u001b[39;00m \u001b[39mself\u001b[39m\u001b[39m.\u001b[39mdump_fields\u001b[39m.\u001b[39mitems():\n\u001b[0;32m--> 525\u001b[0m     value \u001b[39m=\u001b[39m field_obj\u001b[39m.\u001b[39;49mserialize(attr_name, obj, accessor\u001b[39m=\u001b[39;49m\u001b[39mself\u001b[39;49m\u001b[39m.\u001b[39;49mget_attribute)\n\u001b[1;32m    526\u001b[0m     \u001b[39mif\u001b[39;00m value \u001b[39mis\u001b[39;00m missing:\n",
      "File \u001b[0;32m/usr/local/Caskroom/miniconda/base/envs/albert-env/lib/python3.10/site-packages/marshmallow/fields.py:344\u001b[0m, in \u001b[0;36mField.serialize\u001b[0;34m(self, attr, obj, accessor, **kwargs)\u001b[0m\n\u001b[1;32m    343\u001b[0m     value \u001b[39m=\u001b[39m \u001b[39mNone\u001b[39;00m\n\u001b[0;32m--> 344\u001b[0m \u001b[39mreturn\u001b[39;00m \u001b[39mself\u001b[39;49m\u001b[39m.\u001b[39;49m_serialize(value, attr, obj, \u001b[39m*\u001b[39;49m\u001b[39m*\u001b[39;49mkwargs)\n",
      "File \u001b[0;32m/usr/local/Caskroom/miniconda/base/envs/albert-env/lib/python3.10/site-packages/azure/ai/ml/_schema/core/fields.py:441\u001b[0m, in \u001b[0;36mUnionField._serialize\u001b[0;34m(self, value, attr, obj, **kwargs)\u001b[0m\n\u001b[1;32m    440\u001b[0m         errors\u001b[39m.\u001b[39mextend([\u001b[39mstr\u001b[39m(e)])\n\u001b[0;32m--> 441\u001b[0m \u001b[39mraise\u001b[39;00m ValidationError(message\u001b[39m=\u001b[39merrors, field_name\u001b[39m=\u001b[39mattr)\n",
      "\u001b[0;31mValidationError\u001b[0m: ['Non-string passed to RegistryStr for model', 'Non-string passed to ArmStr for model', \"Value <bound method Module.type of AlbertModel(\\n  (embeddings): AlbertEmbeddings(\\n    (word_embeddings): Embedding(30000, 128, padding_idx=0)\\n    (position_embeddings): Embedding(512, 128)\\n    (token_type_embeddings): Embedding(2, 128)\\n    (LayerNorm): LayerNorm((128,), eps=1e-12, elementwise_affine=True)\\n    (dropout): Dropout(p=0, inplace=False)\\n  )\\n  (encoder): AlbertTransformer(\\n    (embedding_hidden_mapping_in): Linear(in_features=128, out_features=768, bias=True)\\n    (albert_layer_groups): ModuleList(\\n      (0): AlbertLayerGroup(\\n        (albert_layers): ModuleList(\\n          (0): AlbertLayer(\\n            (full_layer_layer_norm): LayerNorm((768,), eps=1e-12, elementwise_affine=True)\\n            (attention): AlbertAttention(\\n              (query): Linear(in_features=768, out_features=768, bias=True)\\n              (key): Linear(in_features=768, out_features=768, bias=True)\\n              (value): Linear(in_features=768, out_features=768, bias=True)\\n              (attention_dropout): Dropout(p=0, inplace=False)\\n              (output_dropout): Dropout(p=0, inplace=False)\\n              (dense): Linear(in_features=768, out_features=768, bias=True)\\n              (LayerNorm): LayerNorm((768,), eps=1e-12, elementwise_affine=True)\\n            )\\n            (ffn): Linear(in_features=768, out_features=3072, bias=True)\\n            (ffn_output): Linear(in_features=3072, out_features=768, bias=True)\\n            (activation): NewGELUActivation()\\n            (dropout): Dropout(p=0, inplace=False)\\n          )\\n        )\\n      )\\n    )\\n  )\\n  (pooler): Linear(in_features=768, out_features=768, bias=True)\\n  (pooler_activation): Tanh()\\n)> passed is not in set ['custom_model', 'mlflow_model', 'triton_model']\"]",
      "\nDuring handling of the above exception, another exception occurred:\n",
      "\u001b[0;31mException\u001b[0m                                 Traceback (most recent call last)",
      "Cell \u001b[0;32mIn[46], line 1\u001b[0m\n\u001b[0;32m----> 1\u001b[0m ml_client\u001b[39m.\u001b[39;49monline_deployments\u001b[39m.\u001b[39;49mbegin_create_or_update(\n\u001b[1;32m      2\u001b[0m     deployment\u001b[39m=\u001b[39;49mblue_deployment, local\u001b[39m=\u001b[39;49m\u001b[39mTrue\u001b[39;49;00m\n\u001b[1;32m      3\u001b[0m )\n",
      "File \u001b[0;32m/usr/local/Caskroom/miniconda/base/envs/albert-env/lib/python3.10/site-packages/azure/core/tracing/decorator.py:78\u001b[0m, in \u001b[0;36mdistributed_trace.<locals>.decorator.<locals>.wrapper_use_tracer\u001b[0;34m(*args, **kwargs)\u001b[0m\n\u001b[1;32m     76\u001b[0m span_impl_type \u001b[39m=\u001b[39m settings\u001b[39m.\u001b[39mtracing_implementation()\n\u001b[1;32m     77\u001b[0m \u001b[39mif\u001b[39;00m span_impl_type \u001b[39mis\u001b[39;00m \u001b[39mNone\u001b[39;00m:\n\u001b[0;32m---> 78\u001b[0m     \u001b[39mreturn\u001b[39;00m func(\u001b[39m*\u001b[39;49margs, \u001b[39m*\u001b[39;49m\u001b[39m*\u001b[39;49mkwargs)\n\u001b[1;32m     80\u001b[0m \u001b[39m# Merge span is parameter is set, but only if no explicit parent are passed\u001b[39;00m\n\u001b[1;32m     81\u001b[0m \u001b[39mif\u001b[39;00m merge_span \u001b[39mand\u001b[39;00m \u001b[39mnot\u001b[39;00m passed_in_parent:\n",
      "File \u001b[0;32m/usr/local/Caskroom/miniconda/base/envs/albert-env/lib/python3.10/site-packages/azure/ai/ml/operations/_online_deployment_operations.py:183\u001b[0m, in \u001b[0;36mOnlineDeploymentOperations.begin_create_or_update\u001b[0;34m(self, deployment, local, vscode_debug, skip_script_validation)\u001b[0m\n\u001b[1;32m    181\u001b[0m     log_and_raise_error(ex)\n\u001b[1;32m    182\u001b[0m \u001b[39melse\u001b[39;00m:\n\u001b[0;32m--> 183\u001b[0m     \u001b[39mraise\u001b[39;00m ex\n",
      "File \u001b[0;32m/usr/local/Caskroom/miniconda/base/envs/albert-env/lib/python3.10/site-packages/azure/ai/ml/operations/_online_deployment_operations.py:124\u001b[0m, in \u001b[0;36mOnlineDeploymentOperations.begin_create_or_update\u001b[0;34m(self, deployment, local, vscode_debug, skip_script_validation)\u001b[0m\n\u001b[1;32m    120\u001b[0m     \u001b[39mraise\u001b[39;00m InvalidVSCodeRequestError(\n\u001b[1;32m    121\u001b[0m         msg\u001b[39m=\u001b[39m\u001b[39m\"\u001b[39m\u001b[39mVSCode Debug is only support for local endpoints. Please set local to True.\u001b[39m\u001b[39m\"\u001b[39m\n\u001b[1;32m    122\u001b[0m     )\n\u001b[1;32m    123\u001b[0m \u001b[39mif\u001b[39;00m local:\n\u001b[0;32m--> 124\u001b[0m     \u001b[39mreturn\u001b[39;00m \u001b[39mself\u001b[39;49m\u001b[39m.\u001b[39;49m_local_deployment_helper\u001b[39m.\u001b[39;49mcreate_or_update(\n\u001b[1;32m    125\u001b[0m         deployment\u001b[39m=\u001b[39;49mdeployment,\n\u001b[1;32m    126\u001b[0m         local_endpoint_mode\u001b[39m=\u001b[39;49m\u001b[39mself\u001b[39;49m\u001b[39m.\u001b[39;49m_get_local_endpoint_mode(vscode_debug),\n\u001b[1;32m    127\u001b[0m     )\n\u001b[1;32m    128\u001b[0m \u001b[39mif\u001b[39;00m (\n\u001b[1;32m    129\u001b[0m     \u001b[39mnot\u001b[39;00m skip_script_validation\n\u001b[1;32m    130\u001b[0m     \u001b[39mand\u001b[39;00m deployment\n\u001b[0;32m   (...)\u001b[0m\n\u001b[1;32m    133\u001b[0m     \u001b[39mand\u001b[39;00m \u001b[39mnot\u001b[39;00m re\u001b[39m.\u001b[39mmatch(AMLVersionedArmId\u001b[39m.\u001b[39mREGEX_PATTERN, deployment\u001b[39m.\u001b[39mcode_configuration\u001b[39m.\u001b[39mcode)\n\u001b[1;32m    134\u001b[0m ):\n\u001b[1;32m    135\u001b[0m     validate_scoring_script(deployment)\n",
      "File \u001b[0;32m/usr/local/Caskroom/miniconda/base/envs/albert-env/lib/python3.10/site-packages/azure/ai/ml/operations/_local_deployment_helper.py:93\u001b[0m, in \u001b[0;36m_LocalDeploymentHelper.create_or_update\u001b[0;34m(self, deployment, local_endpoint_mode)\u001b[0m\n\u001b[1;32m     91\u001b[0m \u001b[39mexcept\u001b[39;00m \u001b[39mException\u001b[39;00m \u001b[39mas\u001b[39;00m ex:  \u001b[39m# pylint: disable=broad-except\u001b[39;00m\n\u001b[1;32m     92\u001b[0m     \u001b[39mif\u001b[39;00m \u001b[39misinstance\u001b[39m(ex, (ValidationException, SchemaValidationError)):\n\u001b[0;32m---> 93\u001b[0m         log_and_raise_error(ex)\n\u001b[1;32m     94\u001b[0m     \u001b[39melse\u001b[39;00m:\n\u001b[1;32m     95\u001b[0m         \u001b[39mraise\u001b[39;00m ex\n",
      "File \u001b[0;32m/usr/local/Caskroom/miniconda/base/envs/albert-env/lib/python3.10/site-packages/azure/ai/ml/_exception_helper.py:277\u001b[0m, in \u001b[0;36mlog_and_raise_error\u001b[0;34m(error, debug, yaml_operation)\u001b[0m\n\u001b[1;32m    274\u001b[0m \u001b[39melse\u001b[39;00m:\n\u001b[1;32m    275\u001b[0m     \u001b[39mraise\u001b[39;00m error\n\u001b[0;32m--> 277\u001b[0m \u001b[39mraise\u001b[39;00m \u001b[39mException\u001b[39;00m(formatted_error)\n",
      "\u001b[0;31mException\u001b[0m: ['Non-string passed to RegistryStr for model', 'Non-string passed to ArmStr for model', \"Value <bound method Module.type of AlbertModel(\\n  (embeddings): AlbertEmbeddings(\\n    (word_embeddings): Embedding(30000, 128, padding_idx=0)\\n    (position_embeddings): Embedding(512, 128)\\n    (token_type_embeddings): Embedding(2, 128)\\n    (LayerNorm): LayerNorm((128,), eps=1e-12, elementwise_affine=True)\\n    (dropout): Dropout(p=0, inplace=False)\\n  )\\n  (encoder): AlbertTransformer(\\n    (embedding_hidden_mapping_in): Linear(in_features=128, out_features=768, bias=True)\\n    (albert_layer_groups): ModuleList(\\n      (0): AlbertLayerGroup(\\n        (albert_layers): ModuleList(\\n          (0): AlbertLayer(\\n            (full_layer_layer_norm): LayerNorm((768,), eps=1e-12, elementwise_affine=True)\\n            (attention): AlbertAttention(\\n              (query): Linear(in_features=768, out_features=768, bias=True)\\n              (key): Linear(in_features=768, out_features=768, bias=True)\\n              (value): Linear(in_features=768, out_features=768, bias=True)\\n              (attention_dropout): Dropout(p=0, inplace=False)\\n              (output_dropout): Dropout(p=0, inplace=False)\\n              (dense): Linear(in_features=768, out_features=768, bias=True)\\n              (LayerNorm): LayerNorm((768,), eps=1e-12, elementwise_affine=True)\\n            )\\n            (ffn): Linear(in_features=768, out_features=3072, bias=True)\\n            (ffn_output): Linear(in_features=3072, out_features=768, bias=True)\\n            (activation): NewGELUActivation()\\n            (dropout): Dropout(p=0, inplace=False)\\n          )\\n        )\\n      )\\n    )\\n  )\\n  (pooler): Linear(in_features=768, out_features=768, bias=True)\\n  (pooler_activation): Tanh()\\n)> passed is not in set ['custom_model', 'mlflow_model', 'triton_model']\"]"
     ]
    }
   ],
   "source": [
    "ml_client.online_deployments.begin_create_or_update(\n",
    "    deployment=blue_deployment, local=True\n",
    ")"
   ]
  }
 ],
 "metadata": {
  "kernelspec": {
   "display_name": "Python 3",
   "language": "python",
   "name": "python3"
  },
  "language_info": {
   "codemirror_mode": {
    "name": "ipython",
    "version": 3
   },
   "file_extension": ".py",
   "mimetype": "text/x-python",
   "name": "python",
   "nbconvert_exporter": "python",
   "pygments_lexer": "ipython3",
   "version": "3.10.8"
  },
  "orig_nbformat": 4,
  "vscode": {
   "interpreter": {
    "hash": "324481dcdad130744bde1f0998e54206b4a7c2b71ab9af961e34d7c629d3da40"
   }
  }
 },
 "nbformat": 4,
 "nbformat_minor": 2
}
