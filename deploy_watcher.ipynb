{
 "cells": [
  {
   "cell_type": "code",
   "execution_count": 5,
   "metadata": {},
   "outputs": [],
   "source": [
    "import json\n",
    "import os\n",
    "from azure.cosmos import CosmosClient, PartitionKey\n",
    "\n",
    "auth_token = \"asdaklsödfjaskldfjalsöiodjfhapöioudjs\"\n",
    "# os.environ['COSMOS_ENDPOINT']\n",
    "db_endpoint = \"https://fhnw-cic-rsfm.documents.azure.com:443/\"\n",
    "# os.environ['COSMOS_KEY']\n",
    "db_key = \"0vjgqKT85LvFxAyr4CUZP6uhtLrrNqqHbjaohCl3JyLorFtO4poSX0cijHOfb3h1PXGW0BACsvIYACDby88qPg==\"\n",
    "db_client = CosmosClient(db_endpoint, credential=db_key)\n",
    "db = db_client.create_database_if_not_exists(id='cic-watcher')\n",
    "partition_key_path = PartitionKey(path=\"/id\")\n",
    "\n",
    "db_service_request_container = db.create_container_if_not_exists(\n",
    "    id='azure-cognitive-service-requests',\n",
    "    partition_key=partition_key_path,\n",
    ")\n",
    "\n",
    "db_configuration_container = db.create_container_if_not_exists(\n",
    "    id='azure-cs-configuration',\n",
    "    partition_key=partition_key_path,\n",
    ")\n"
   ]
  },
  {
   "cell_type": "code",
   "execution_count": 38,
   "metadata": {},
   "outputs": [
    {
     "data": {
      "text/plain": [
       "{'id': 'cad1000d-b319-4b71-9aff-49ffdcc8b1e2',\n",
       " 'route': '/api/v1/check-balance-allowance',\n",
       " 'request_timestamp': '2022-12-29 01:37:37.763108',\n",
       " '_rid': '2YtcAIKUSpkCAAAAAAAAAA==',\n",
       " '_self': 'dbs/2YtcAA==/colls/2YtcAIKUSpk=/docs/2YtcAIKUSpkCAAAAAAAAAA==/',\n",
       " '_etag': '\"06004f79-0000-1600-0000-63ace1520000\"',\n",
       " '_attachments': 'attachments/',\n",
       " '_ts': 1672274258}"
      ]
     },
     "execution_count": 38,
     "metadata": {},
     "output_type": "execute_result"
    }
   ],
   "source": [
    "import datetime\n",
    "import uuid\n",
    "new_item = {\n",
    "    \"id\": str(uuid.uuid4()),\n",
    "    \"route\": \"/api/v1/check-balance-allowance\",\n",
    "    \"request_timestamp\": str(datetime.datetime.now())\n",
    "}\n",
    "db_service_request_container.create_item(body=new_item)"
   ]
  },
  {
   "cell_type": "code",
   "execution_count": 9,
   "metadata": {},
   "outputs": [
    {
     "data": {
      "text/plain": [
       "{'id': '504f3179-e20f-4c91-818e-12ca4cf443c5',\n",
       " 'price_per_request': 0.0001,\n",
       " '_rid': '2YtcAKPFmQ4BAAAAAAAAAA==',\n",
       " '_self': 'dbs/2YtcAA==/colls/2YtcAKPFmQ4=/docs/2YtcAKPFmQ4BAAAAAAAAAA==/',\n",
       " '_etag': '\"02001e50-0000-1600-0000-63acdb120000\"',\n",
       " '_attachments': 'attachments/',\n",
       " '_ts': 1672272658}"
      ]
     },
     "execution_count": 9,
     "metadata": {},
     "output_type": "execute_result"
    }
   ],
   "source": [
    "# create class called AzureCSConfiguration with one variable called price_per_request\n",
    "import uuid\n",
    "\n",
    "class AzureCSConfiguration:\n",
    "    def __init__(self, price_per_request):\n",
    "        self.price_per_request = price_per_request\n",
    "        # create random guid\n",
    "        self.id = str(uuid.uuid4())\n",
    "\n",
    "\n",
    "# instantiate class with price_per_request = 0.0001\n",
    "azure_cs_configuration = AzureCSConfiguration(0.0001)\n",
    "\n",
    "# json serialize class\n",
    "newItem = {\n",
    "    'id': azure_cs_configuration.id,\n",
    "    'price_per_request': azure_cs_configuration.price_per_request\n",
    "}\n",
    "\n",
    "db_configuration_container.create_item(newItem)"
   ]
  },
  {
   "cell_type": "code",
   "execution_count": 16,
   "metadata": {},
   "outputs": [
    {
     "name": "stdout",
     "output_type": "stream",
     "text": [
      "{'id': '504f3179-e20f-4c91-818e-12ca4cf443c5', 'price_per_request': 0.0001, 'total_balance': 10, '_rid': '2YtcAKPFmQ4BAAAAAAAAAA==', '_self': 'dbs/2YtcAA==/colls/2YtcAKPFmQ4=/docs/2YtcAKPFmQ4BAAAAAAAAAA==/', '_etag': '\"02001f50-0000-1600-0000-63acdd310000\"', '_attachments': 'attachments/', '_ts': 1672273201}\n"
     ]
    }
   ],
   "source": [
    "db_configuration = db_configuration_container.read_all_items(max_item_count=1)\n",
    "\n",
    "for item in db_configuration:\n",
    "    print(item)"
   ]
  },
  {
   "cell_type": "code",
   "execution_count": 36,
   "metadata": {},
   "outputs": [
    {
     "name": "stdout",
     "output_type": "stream",
     "text": [
      "1\n"
     ]
    }
   ],
   "source": [
    "QUERY = \"SELECT COUNT(1)\"\n",
    "items = db_service_request_container.query_items(\n",
    "    query=QUERY\n",
    ")\n",
    "\n",
    "for item in items:\n",
    "    print(item[\"$1\"])"
   ]
  },
  {
   "cell_type": "code",
   "execution_count": 22,
   "metadata": {},
   "outputs": [
    {
     "data": {
      "text/plain": [
       "{'id': '70b63682-b93a-4c77-aad2-65501347265f',\n",
       " 'categoryId': '61dba35b-4f02-45c5-b648-c6badc0cbd79',\n",
       " 'categoryName': 'gear-surf-surfboards',\n",
       " 'name': 'Yamba Surfboard',\n",
       " 'quantity': 12,\n",
       " 'sale': False,\n",
       " '_rid': '2YtcAIKUSpkBAAAAAAAAAA==',\n",
       " '_self': 'dbs/2YtcAA==/colls/2YtcAIKUSpk=/docs/2YtcAIKUSpkBAAAAAAAAAA==/',\n",
       " '_etag': '\"06001a79-0000-1600-0000-63acde710000\"',\n",
       " '_attachments': 'attachments/',\n",
       " '_ts': 1672273521}"
      ]
     },
     "execution_count": 22,
     "metadata": {},
     "output_type": "execute_result"
    }
   ],
   "source": [
    "newItem = {\n",
    "    \"id\": \"70b63682-b93a-4c77-aad2-65501347265f\",\n",
    "    \"categoryId\": \"61dba35b-4f02-45c5-b648-c6badc0cbd79\",\n",
    "    \"categoryName\": \"gear-surf-surfboards\",\n",
    "    \"name\": \"Yamba Surfboard\",\n",
    "    \"quantity\": 12,\n",
    "    \"sale\": False,\n",
    "}\n",
    "\n",
    "db_service_request_container.create_item(newItem)"
   ]
  },
  {
   "cell_type": "code",
   "execution_count": 19,
   "metadata": {},
   "outputs": [
    {
     "ename": "TypeError",
     "evalue": "Object of type ContainerProxy is not JSON serializable",
     "output_type": "error",
     "traceback": [
      "\u001b[0;31m---------------------------------------------------------------------------\u001b[0m",
      "\u001b[0;31mTypeError\u001b[0m                                 Traceback (most recent call last)",
      "Cell \u001b[0;32mIn[19], line 1\u001b[0m\n\u001b[0;32m----> 1\u001b[0m \u001b[39mfor\u001b[39;00m item \u001b[39min\u001b[39;00m items:\n\u001b[1;32m      2\u001b[0m     \u001b[39mprint\u001b[39m(item)\n",
      "File \u001b[0;32m~/miniforge3/envs/cic/lib/python3.10/site-packages/azure/core/paging.py:128\u001b[0m, in \u001b[0;36mItemPaged.__next__\u001b[0;34m(self)\u001b[0m\n\u001b[1;32m    126\u001b[0m \u001b[39mif\u001b[39;00m \u001b[39mself\u001b[39m\u001b[39m.\u001b[39m_page_iterator \u001b[39mis\u001b[39;00m \u001b[39mNone\u001b[39;00m:\n\u001b[1;32m    127\u001b[0m     \u001b[39mself\u001b[39m\u001b[39m.\u001b[39m_page_iterator \u001b[39m=\u001b[39m itertools\u001b[39m.\u001b[39mchain\u001b[39m.\u001b[39mfrom_iterable(\u001b[39mself\u001b[39m\u001b[39m.\u001b[39mby_page())\n\u001b[0;32m--> 128\u001b[0m \u001b[39mreturn\u001b[39;00m \u001b[39mnext\u001b[39;49m(\u001b[39mself\u001b[39;49m\u001b[39m.\u001b[39;49m_page_iterator)\n",
      "File \u001b[0;32m~/miniforge3/envs/cic/lib/python3.10/site-packages/azure/core/paging.py:76\u001b[0m, in \u001b[0;36mPageIterator.__next__\u001b[0;34m(self)\u001b[0m\n\u001b[1;32m     74\u001b[0m     \u001b[39mraise\u001b[39;00m \u001b[39mStopIteration\u001b[39;00m(\u001b[39m\"\u001b[39m\u001b[39mEnd of paging\u001b[39m\u001b[39m\"\u001b[39m)\n\u001b[1;32m     75\u001b[0m \u001b[39mtry\u001b[39;00m:\n\u001b[0;32m---> 76\u001b[0m     \u001b[39mself\u001b[39m\u001b[39m.\u001b[39m_response \u001b[39m=\u001b[39m \u001b[39mself\u001b[39;49m\u001b[39m.\u001b[39;49m_get_next(\u001b[39mself\u001b[39;49m\u001b[39m.\u001b[39;49mcontinuation_token)\n\u001b[1;32m     77\u001b[0m \u001b[39mexcept\u001b[39;00m AzureError \u001b[39mas\u001b[39;00m error:\n\u001b[1;32m     78\u001b[0m     \u001b[39mif\u001b[39;00m \u001b[39mnot\u001b[39;00m error\u001b[39m.\u001b[39mcontinuation_token:\n",
      "File \u001b[0;32m~/miniforge3/envs/cic/lib/python3.10/site-packages/azure/cosmos/_query_iterable.py:98\u001b[0m, in \u001b[0;36mQueryIterable._fetch_next\u001b[0;34m(self, *args)\u001b[0m\n\u001b[1;32m     89\u001b[0m \u001b[39mdef\u001b[39;00m \u001b[39m_fetch_next\u001b[39m(\u001b[39mself\u001b[39m, \u001b[39m*\u001b[39margs):  \u001b[39m# pylint: disable=unused-argument\u001b[39;00m\n\u001b[1;32m     90\u001b[0m     \u001b[39m\"\"\"Return a block of results with respecting retry policy.\u001b[39;00m\n\u001b[1;32m     91\u001b[0m \n\u001b[1;32m     92\u001b[0m \u001b[39m    This method only exists for backward compatibility reasons. (Because\u001b[39;00m\n\u001b[0;32m   (...)\u001b[0m\n\u001b[1;32m     96\u001b[0m \u001b[39m    :rtype: list\u001b[39;00m\n\u001b[1;32m     97\u001b[0m \u001b[39m    \"\"\"\u001b[39;00m\n\u001b[0;32m---> 98\u001b[0m     block \u001b[39m=\u001b[39m \u001b[39mself\u001b[39;49m\u001b[39m.\u001b[39;49m_ex_context\u001b[39m.\u001b[39;49mfetch_next_block()\n\u001b[1;32m     99\u001b[0m     \u001b[39mif\u001b[39;00m \u001b[39mnot\u001b[39;00m block:\n\u001b[1;32m    100\u001b[0m         \u001b[39mraise\u001b[39;00m \u001b[39mStopIteration\u001b[39;00m\n",
      "File \u001b[0;32m~/miniforge3/envs/cic/lib/python3.10/site-packages/azure/cosmos/_execution_context/execution_dispatcher.py:102\u001b[0m, in \u001b[0;36m_ProxyQueryExecutionContext.fetch_next_block\u001b[0;34m(self)\u001b[0m\n\u001b[1;32m     93\u001b[0m \u001b[39m\"\"\"Returns a block of results.\u001b[39;00m\n\u001b[1;32m     94\u001b[0m \n\u001b[1;32m     95\u001b[0m \u001b[39mThis method only exists for backward compatibility reasons. (Because\u001b[39;00m\n\u001b[0;32m   (...)\u001b[0m\n\u001b[1;32m     99\u001b[0m \u001b[39m:rtype: list\u001b[39;00m\n\u001b[1;32m    100\u001b[0m \u001b[39m\"\"\"\u001b[39;00m\n\u001b[1;32m    101\u001b[0m \u001b[39mtry\u001b[39;00m:\n\u001b[0;32m--> 102\u001b[0m     \u001b[39mreturn\u001b[39;00m \u001b[39mself\u001b[39;49m\u001b[39m.\u001b[39;49m_execution_context\u001b[39m.\u001b[39;49mfetch_next_block()\n\u001b[1;32m    103\u001b[0m \u001b[39mexcept\u001b[39;00m CosmosHttpResponseError \u001b[39mas\u001b[39;00m e:\n\u001b[1;32m    104\u001b[0m     \u001b[39mif\u001b[39;00m _is_partitioned_execution_info(e):\n",
      "File \u001b[0;32m~/miniforge3/envs/cic/lib/python3.10/site-packages/azure/cosmos/_execution_context/base_execution_context.py:80\u001b[0m, in \u001b[0;36m_QueryExecutionContextBase.fetch_next_block\u001b[0;34m(self)\u001b[0m\n\u001b[1;32m     77\u001b[0m     \u001b[39mreturn\u001b[39;00m res\n\u001b[1;32m     79\u001b[0m \u001b[39m# fetches the next block\u001b[39;00m\n\u001b[0;32m---> 80\u001b[0m \u001b[39mreturn\u001b[39;00m \u001b[39mself\u001b[39;49m\u001b[39m.\u001b[39;49m_fetch_next_block()\n",
      "File \u001b[0;32m~/miniforge3/envs/cic/lib/python3.10/site-packages/azure/cosmos/_execution_context/base_execution_context.py:170\u001b[0m, in \u001b[0;36m_DefaultQueryExecutionContext._fetch_next_block\u001b[0;34m(self)\u001b[0m\n\u001b[1;32m    168\u001b[0m \u001b[39mdef\u001b[39;00m \u001b[39m_fetch_next_block\u001b[39m(\u001b[39mself\u001b[39m):\n\u001b[1;32m    169\u001b[0m     \u001b[39mwhile\u001b[39;00m \u001b[39msuper\u001b[39m(_DefaultQueryExecutionContext, \u001b[39mself\u001b[39m)\u001b[39m.\u001b[39m_has_more_pages() \u001b[39mand\u001b[39;00m \u001b[39mnot\u001b[39;00m \u001b[39mself\u001b[39m\u001b[39m.\u001b[39m_buffer:\n\u001b[0;32m--> 170\u001b[0m         \u001b[39mreturn\u001b[39;00m \u001b[39mself\u001b[39;49m\u001b[39m.\u001b[39;49m_fetch_items_helper_with_retries(\u001b[39mself\u001b[39;49m\u001b[39m.\u001b[39;49m_fetch_function)\n",
      "File \u001b[0;32m~/miniforge3/envs/cic/lib/python3.10/site-packages/azure/cosmos/_execution_context/base_execution_context.py:142\u001b[0m, in \u001b[0;36m_QueryExecutionContextBase._fetch_items_helper_with_retries\u001b[0;34m(self, fetch_function)\u001b[0m\n\u001b[1;32m    139\u001b[0m \u001b[39mdef\u001b[39;00m \u001b[39mcallback\u001b[39m():\n\u001b[1;32m    140\u001b[0m     \u001b[39mreturn\u001b[39;00m \u001b[39mself\u001b[39m\u001b[39m.\u001b[39m_fetch_items_helper_no_retries(fetch_function)\n\u001b[0;32m--> 142\u001b[0m \u001b[39mreturn\u001b[39;00m _retry_utility\u001b[39m.\u001b[39;49mExecute(\u001b[39mself\u001b[39;49m\u001b[39m.\u001b[39;49m_client, \u001b[39mself\u001b[39;49m\u001b[39m.\u001b[39;49m_client\u001b[39m.\u001b[39;49m_global_endpoint_manager, callback)\n",
      "File \u001b[0;32m~/miniforge3/envs/cic/lib/python3.10/site-packages/azure/cosmos/_retry_utility.py:79\u001b[0m, in \u001b[0;36mExecute\u001b[0;34m(client, global_endpoint_manager, function, *args, **kwargs)\u001b[0m\n\u001b[1;32m     77\u001b[0m     result \u001b[39m=\u001b[39m ExecuteFunction(function, global_endpoint_manager, \u001b[39m*\u001b[39margs, \u001b[39m*\u001b[39m\u001b[39m*\u001b[39mkwargs)\n\u001b[1;32m     78\u001b[0m \u001b[39melse\u001b[39;00m:\n\u001b[0;32m---> 79\u001b[0m     result \u001b[39m=\u001b[39m ExecuteFunction(function, \u001b[39m*\u001b[39;49margs, \u001b[39m*\u001b[39;49m\u001b[39m*\u001b[39;49mkwargs)\n\u001b[1;32m     80\u001b[0m \u001b[39mif\u001b[39;00m \u001b[39mnot\u001b[39;00m client\u001b[39m.\u001b[39mlast_response_headers:\n\u001b[1;32m     81\u001b[0m     client\u001b[39m.\u001b[39mlast_response_headers \u001b[39m=\u001b[39m {}\n",
      "File \u001b[0;32m~/miniforge3/envs/cic/lib/python3.10/site-packages/azure/cosmos/_retry_utility.py:136\u001b[0m, in \u001b[0;36mExecuteFunction\u001b[0;34m(function, *args, **kwargs)\u001b[0m\n\u001b[1;32m    133\u001b[0m \u001b[39mdef\u001b[39;00m \u001b[39mExecuteFunction\u001b[39m(function, \u001b[39m*\u001b[39margs, \u001b[39m*\u001b[39m\u001b[39m*\u001b[39mkwargs):\n\u001b[1;32m    134\u001b[0m     \u001b[39m\"\"\"Stub method so that it can be used for mocking purposes as well.\u001b[39;00m\n\u001b[1;32m    135\u001b[0m \u001b[39m    \"\"\"\u001b[39;00m\n\u001b[0;32m--> 136\u001b[0m     \u001b[39mreturn\u001b[39;00m function(\u001b[39m*\u001b[39;49margs, \u001b[39m*\u001b[39;49m\u001b[39m*\u001b[39;49mkwargs)\n",
      "File \u001b[0;32m~/miniforge3/envs/cic/lib/python3.10/site-packages/azure/cosmos/_execution_context/base_execution_context.py:140\u001b[0m, in \u001b[0;36m_QueryExecutionContextBase._fetch_items_helper_with_retries.<locals>.callback\u001b[0;34m()\u001b[0m\n\u001b[1;32m    139\u001b[0m \u001b[39mdef\u001b[39;00m \u001b[39mcallback\u001b[39m():\n\u001b[0;32m--> 140\u001b[0m     \u001b[39mreturn\u001b[39;00m \u001b[39mself\u001b[39;49m\u001b[39m.\u001b[39;49m_fetch_items_helper_no_retries(fetch_function)\n",
      "File \u001b[0;32m~/miniforge3/envs/cic/lib/python3.10/site-packages/azure/cosmos/_execution_context/base_execution_context.py:123\u001b[0m, in \u001b[0;36m_QueryExecutionContextBase._fetch_items_helper_no_retries\u001b[0;34m(self, fetch_function)\u001b[0m\n\u001b[1;32m    120\u001b[0m new_options \u001b[39m=\u001b[39m copy\u001b[39m.\u001b[39mdeepcopy(\u001b[39mself\u001b[39m\u001b[39m.\u001b[39m_options)\n\u001b[1;32m    121\u001b[0m new_options[\u001b[39m\"\u001b[39m\u001b[39mcontinuation\u001b[39m\u001b[39m\"\u001b[39m] \u001b[39m=\u001b[39m \u001b[39mself\u001b[39m\u001b[39m.\u001b[39m_continuation\n\u001b[0;32m--> 123\u001b[0m (fetched_items, response_headers) \u001b[39m=\u001b[39m fetch_function(new_options)\n\u001b[1;32m    124\u001b[0m continuation_key \u001b[39m=\u001b[39m http_constants\u001b[39m.\u001b[39mHttpHeaders\u001b[39m.\u001b[39mContinuation\n\u001b[1;32m    125\u001b[0m \u001b[39m# Use Etag as continuation token for change feed queries.\u001b[39;00m\n",
      "File \u001b[0;32m~/miniforge3/envs/cic/lib/python3.10/site-packages/azure/cosmos/_cosmos_client_connection.py:924\u001b[0m, in \u001b[0;36mCosmosClientConnection.QueryItems.<locals>.fetch_fn\u001b[0;34m(options)\u001b[0m\n\u001b[1;32m    922\u001b[0m \u001b[39mdef\u001b[39;00m \u001b[39mfetch_fn\u001b[39m(options):\n\u001b[1;32m    923\u001b[0m     \u001b[39mreturn\u001b[39;00m (\n\u001b[0;32m--> 924\u001b[0m         \u001b[39mself\u001b[39;49m\u001b[39m.\u001b[39;49m__QueryFeed(\n\u001b[1;32m    925\u001b[0m             path,\n\u001b[1;32m    926\u001b[0m             \u001b[39m\"\u001b[39;49m\u001b[39mdocs\u001b[39;49m\u001b[39m\"\u001b[39;49m,\n\u001b[1;32m    927\u001b[0m             collection_id,\n\u001b[1;32m    928\u001b[0m             \u001b[39mlambda\u001b[39;49;00m r: r[\u001b[39m\"\u001b[39;49m\u001b[39mDocuments\u001b[39;49m\u001b[39m\"\u001b[39;49m],\n\u001b[1;32m    929\u001b[0m             \u001b[39mlambda\u001b[39;49;00m _, b: b,\n\u001b[1;32m    930\u001b[0m             query,\n\u001b[1;32m    931\u001b[0m             options,\n\u001b[1;32m    932\u001b[0m             response_hook\u001b[39m=\u001b[39;49mresponse_hook,\n\u001b[1;32m    933\u001b[0m             \u001b[39m*\u001b[39;49m\u001b[39m*\u001b[39;49mkwargs\n\u001b[1;32m    934\u001b[0m         ),\n\u001b[1;32m    935\u001b[0m         \u001b[39mself\u001b[39m\u001b[39m.\u001b[39mlast_response_headers,\n\u001b[1;32m    936\u001b[0m     )\n",
      "File \u001b[0;32m~/miniforge3/envs/cic/lib/python3.10/site-packages/azure/cosmos/_cosmos_client_connection.py:2448\u001b[0m, in \u001b[0;36mCosmosClientConnection.__QueryFeed\u001b[0;34m(self, path, typ, id_, result_fn, create_fn, query, options, partition_key_range_id, response_hook, is_query_plan, **kwargs)\u001b[0m\n\u001b[1;32m   2446\u001b[0m request_params \u001b[39m=\u001b[39m _request_object\u001b[39m.\u001b[39mRequestObject(typ, documents\u001b[39m.\u001b[39m_OperationType\u001b[39m.\u001b[39mSqlQuery)\n\u001b[1;32m   2447\u001b[0m req_headers \u001b[39m=\u001b[39m base\u001b[39m.\u001b[39mGetHeaders(\u001b[39mself\u001b[39m, initial_headers, \u001b[39m\"\u001b[39m\u001b[39mpost\u001b[39m\u001b[39m\"\u001b[39m, path, id_, typ, options, partition_key_range_id)\n\u001b[0;32m-> 2448\u001b[0m result, \u001b[39mself\u001b[39m\u001b[39m.\u001b[39mlast_response_headers \u001b[39m=\u001b[39m \u001b[39mself\u001b[39;49m\u001b[39m.\u001b[39;49m__Post(path, request_params, query, req_headers, \u001b[39m*\u001b[39;49m\u001b[39m*\u001b[39;49mkwargs)\n\u001b[1;32m   2450\u001b[0m \u001b[39mif\u001b[39;00m response_hook:\n\u001b[1;32m   2451\u001b[0m     response_hook(\u001b[39mself\u001b[39m\u001b[39m.\u001b[39mlast_response_headers, result)\n",
      "File \u001b[0;32m~/miniforge3/envs/cic/lib/python3.10/site-packages/azure/cosmos/_cosmos_client_connection.py:2274\u001b[0m, in \u001b[0;36mCosmosClientConnection.__Post\u001b[0;34m(self, path, request_params, body, req_headers, **kwargs)\u001b[0m\n\u001b[1;32m   2260\u001b[0m \u001b[39m\"\"\"Azure Cosmos 'POST' http request.\u001b[39;00m\n\u001b[1;32m   2261\u001b[0m \n\u001b[1;32m   2262\u001b[0m \u001b[39m:params str url:\u001b[39;00m\n\u001b[0;32m   (...)\u001b[0m\n\u001b[1;32m   2271\u001b[0m \n\u001b[1;32m   2272\u001b[0m \u001b[39m\"\"\"\u001b[39;00m\n\u001b[1;32m   2273\u001b[0m request \u001b[39m=\u001b[39m \u001b[39mself\u001b[39m\u001b[39m.\u001b[39mpipeline_client\u001b[39m.\u001b[39mpost(url\u001b[39m=\u001b[39mpath, headers\u001b[39m=\u001b[39mreq_headers)\n\u001b[0;32m-> 2274\u001b[0m \u001b[39mreturn\u001b[39;00m synchronized_request\u001b[39m.\u001b[39;49mSynchronizedRequest(\n\u001b[1;32m   2275\u001b[0m     client\u001b[39m=\u001b[39;49m\u001b[39mself\u001b[39;49m,\n\u001b[1;32m   2276\u001b[0m     request_params\u001b[39m=\u001b[39;49mrequest_params,\n\u001b[1;32m   2277\u001b[0m     global_endpoint_manager\u001b[39m=\u001b[39;49m\u001b[39mself\u001b[39;49m\u001b[39m.\u001b[39;49m_global_endpoint_manager,\n\u001b[1;32m   2278\u001b[0m     connection_policy\u001b[39m=\u001b[39;49m\u001b[39mself\u001b[39;49m\u001b[39m.\u001b[39;49mconnection_policy,\n\u001b[1;32m   2279\u001b[0m     pipeline_client\u001b[39m=\u001b[39;49m\u001b[39mself\u001b[39;49m\u001b[39m.\u001b[39;49mpipeline_client,\n\u001b[1;32m   2280\u001b[0m     request\u001b[39m=\u001b[39;49mrequest,\n\u001b[1;32m   2281\u001b[0m     request_data\u001b[39m=\u001b[39;49mbody,\n\u001b[1;32m   2282\u001b[0m     \u001b[39m*\u001b[39;49m\u001b[39m*\u001b[39;49mkwargs\n\u001b[1;32m   2283\u001b[0m )\n",
      "File \u001b[0;32m~/miniforge3/envs/cic/lib/python3.10/site-packages/azure/cosmos/_synchronized_request.py:199\u001b[0m, in \u001b[0;36mSynchronizedRequest\u001b[0;34m(client, request_params, global_endpoint_manager, connection_policy, pipeline_client, request, request_data, **kwargs)\u001b[0m\n\u001b[1;32m    174\u001b[0m \u001b[39mdef\u001b[39;00m \u001b[39mSynchronizedRequest\u001b[39m(\n\u001b[1;32m    175\u001b[0m     client,\n\u001b[1;32m    176\u001b[0m     request_params,\n\u001b[0;32m   (...)\u001b[0m\n\u001b[1;32m    182\u001b[0m     \u001b[39m*\u001b[39m\u001b[39m*\u001b[39mkwargs\n\u001b[1;32m    183\u001b[0m ):\n\u001b[1;32m    184\u001b[0m     \u001b[39m\"\"\"Performs one synchronized http request according to the parameters.\u001b[39;00m\n\u001b[1;32m    185\u001b[0m \n\u001b[1;32m    186\u001b[0m \u001b[39m    :param object client: Document client instance\u001b[39;00m\n\u001b[0;32m   (...)\u001b[0m\n\u001b[1;32m    197\u001b[0m \u001b[39m    :rtype: tuple of (dict dict)\u001b[39;00m\n\u001b[1;32m    198\u001b[0m \u001b[39m    \"\"\"\u001b[39;00m\n\u001b[0;32m--> 199\u001b[0m     request\u001b[39m.\u001b[39mdata \u001b[39m=\u001b[39m _request_body_from_data(request_data)\n\u001b[1;32m    200\u001b[0m     \u001b[39mif\u001b[39;00m request\u001b[39m.\u001b[39mdata \u001b[39mand\u001b[39;00m \u001b[39misinstance\u001b[39m(request\u001b[39m.\u001b[39mdata, \u001b[39mstr\u001b[39m):\n\u001b[1;32m    201\u001b[0m         request\u001b[39m.\u001b[39mheaders[http_constants\u001b[39m.\u001b[39mHttpHeaders\u001b[39m.\u001b[39mContentLength] \u001b[39m=\u001b[39m \u001b[39mlen\u001b[39m(request\u001b[39m.\u001b[39mdata)\n",
      "File \u001b[0;32m~/miniforge3/envs/cic/lib/python3.10/site-packages/azure/cosmos/_synchronized_request.py:62\u001b[0m, in \u001b[0;36m_request_body_from_data\u001b[0;34m(data)\u001b[0m\n\u001b[1;32m     59\u001b[0m     \u001b[39mreturn\u001b[39;00m data\n\u001b[1;32m     60\u001b[0m \u001b[39mif\u001b[39;00m \u001b[39misinstance\u001b[39m(data, (\u001b[39mdict\u001b[39m, \u001b[39mlist\u001b[39m, \u001b[39mtuple\u001b[39m)):\n\u001b[0;32m---> 62\u001b[0m     json_dumped \u001b[39m=\u001b[39m json\u001b[39m.\u001b[39;49mdumps(data, separators\u001b[39m=\u001b[39;49m(\u001b[39m\"\u001b[39;49m\u001b[39m,\u001b[39;49m\u001b[39m\"\u001b[39;49m, \u001b[39m\"\u001b[39;49m\u001b[39m:\u001b[39;49m\u001b[39m\"\u001b[39;49m))\n\u001b[1;32m     64\u001b[0m     \u001b[39mreturn\u001b[39;00m json_dumped\n\u001b[1;32m     65\u001b[0m \u001b[39mreturn\u001b[39;00m \u001b[39mNone\u001b[39;00m\n",
      "File \u001b[0;32m~/miniforge3/envs/cic/lib/python3.10/json/__init__.py:238\u001b[0m, in \u001b[0;36mdumps\u001b[0;34m(obj, skipkeys, ensure_ascii, check_circular, allow_nan, cls, indent, separators, default, sort_keys, **kw)\u001b[0m\n\u001b[1;32m    232\u001b[0m \u001b[39mif\u001b[39;00m \u001b[39mcls\u001b[39m \u001b[39mis\u001b[39;00m \u001b[39mNone\u001b[39;00m:\n\u001b[1;32m    233\u001b[0m     \u001b[39mcls\u001b[39m \u001b[39m=\u001b[39m JSONEncoder\n\u001b[1;32m    234\u001b[0m \u001b[39mreturn\u001b[39;00m \u001b[39mcls\u001b[39;49m(\n\u001b[1;32m    235\u001b[0m     skipkeys\u001b[39m=\u001b[39;49mskipkeys, ensure_ascii\u001b[39m=\u001b[39;49mensure_ascii,\n\u001b[1;32m    236\u001b[0m     check_circular\u001b[39m=\u001b[39;49mcheck_circular, allow_nan\u001b[39m=\u001b[39;49mallow_nan, indent\u001b[39m=\u001b[39;49mindent,\n\u001b[1;32m    237\u001b[0m     separators\u001b[39m=\u001b[39;49mseparators, default\u001b[39m=\u001b[39;49mdefault, sort_keys\u001b[39m=\u001b[39;49msort_keys,\n\u001b[0;32m--> 238\u001b[0m     \u001b[39m*\u001b[39;49m\u001b[39m*\u001b[39;49mkw)\u001b[39m.\u001b[39;49mencode(obj)\n",
      "File \u001b[0;32m~/miniforge3/envs/cic/lib/python3.10/json/encoder.py:199\u001b[0m, in \u001b[0;36mJSONEncoder.encode\u001b[0;34m(self, o)\u001b[0m\n\u001b[1;32m    195\u001b[0m         \u001b[39mreturn\u001b[39;00m encode_basestring(o)\n\u001b[1;32m    196\u001b[0m \u001b[39m# This doesn't pass the iterator directly to ''.join() because the\u001b[39;00m\n\u001b[1;32m    197\u001b[0m \u001b[39m# exceptions aren't as detailed.  The list call should be roughly\u001b[39;00m\n\u001b[1;32m    198\u001b[0m \u001b[39m# equivalent to the PySequence_Fast that ''.join() would do.\u001b[39;00m\n\u001b[0;32m--> 199\u001b[0m chunks \u001b[39m=\u001b[39m \u001b[39mself\u001b[39;49m\u001b[39m.\u001b[39;49miterencode(o, _one_shot\u001b[39m=\u001b[39;49m\u001b[39mTrue\u001b[39;49;00m)\n\u001b[1;32m    200\u001b[0m \u001b[39mif\u001b[39;00m \u001b[39mnot\u001b[39;00m \u001b[39misinstance\u001b[39m(chunks, (\u001b[39mlist\u001b[39m, \u001b[39mtuple\u001b[39m)):\n\u001b[1;32m    201\u001b[0m     chunks \u001b[39m=\u001b[39m \u001b[39mlist\u001b[39m(chunks)\n",
      "File \u001b[0;32m~/miniforge3/envs/cic/lib/python3.10/json/encoder.py:257\u001b[0m, in \u001b[0;36mJSONEncoder.iterencode\u001b[0;34m(self, o, _one_shot)\u001b[0m\n\u001b[1;32m    252\u001b[0m \u001b[39melse\u001b[39;00m:\n\u001b[1;32m    253\u001b[0m     _iterencode \u001b[39m=\u001b[39m _make_iterencode(\n\u001b[1;32m    254\u001b[0m         markers, \u001b[39mself\u001b[39m\u001b[39m.\u001b[39mdefault, _encoder, \u001b[39mself\u001b[39m\u001b[39m.\u001b[39mindent, floatstr,\n\u001b[1;32m    255\u001b[0m         \u001b[39mself\u001b[39m\u001b[39m.\u001b[39mkey_separator, \u001b[39mself\u001b[39m\u001b[39m.\u001b[39mitem_separator, \u001b[39mself\u001b[39m\u001b[39m.\u001b[39msort_keys,\n\u001b[1;32m    256\u001b[0m         \u001b[39mself\u001b[39m\u001b[39m.\u001b[39mskipkeys, _one_shot)\n\u001b[0;32m--> 257\u001b[0m \u001b[39mreturn\u001b[39;00m _iterencode(o, \u001b[39m0\u001b[39;49m)\n",
      "File \u001b[0;32m~/miniforge3/envs/cic/lib/python3.10/json/encoder.py:179\u001b[0m, in \u001b[0;36mJSONEncoder.default\u001b[0;34m(self, o)\u001b[0m\n\u001b[1;32m    160\u001b[0m \u001b[39mdef\u001b[39;00m \u001b[39mdefault\u001b[39m(\u001b[39mself\u001b[39m, o):\n\u001b[1;32m    161\u001b[0m     \u001b[39m\"\"\"Implement this method in a subclass such that it returns\u001b[39;00m\n\u001b[1;32m    162\u001b[0m \u001b[39m    a serializable object for ``o``, or calls the base implementation\u001b[39;00m\n\u001b[1;32m    163\u001b[0m \u001b[39m    (to raise a ``TypeError``).\u001b[39;00m\n\u001b[0;32m   (...)\u001b[0m\n\u001b[1;32m    177\u001b[0m \n\u001b[1;32m    178\u001b[0m \u001b[39m    \"\"\"\u001b[39;00m\n\u001b[0;32m--> 179\u001b[0m     \u001b[39mraise\u001b[39;00m \u001b[39mTypeError\u001b[39;00m(\u001b[39mf\u001b[39m\u001b[39m'\u001b[39m\u001b[39mObject of type \u001b[39m\u001b[39m{\u001b[39;00mo\u001b[39m.\u001b[39m\u001b[39m__class__\u001b[39m\u001b[39m.\u001b[39m\u001b[39m__name__\u001b[39m\u001b[39m}\u001b[39;00m\u001b[39m \u001b[39m\u001b[39m'\u001b[39m\n\u001b[1;32m    180\u001b[0m                     \u001b[39mf\u001b[39m\u001b[39m'\u001b[39m\u001b[39mis not JSON serializable\u001b[39m\u001b[39m'\u001b[39m)\n",
      "\u001b[0;31mTypeError\u001b[0m: Object of type ContainerProxy is not JSON serializable"
     ]
    }
   ],
   "source": []
  },
  {
   "cell_type": "code",
   "execution_count": null,
   "metadata": {},
   "outputs": [],
   "source": [
    "# SQL query to get the count of all items in the container\n",
    "QUERY = \"SELECT COUNT() FROM azure-cognitive-service-requests\""
   ]
  }
 ],
 "metadata": {
  "kernelspec": {
   "display_name": "cic",
   "language": "python",
   "name": "python3"
  },
  "language_info": {
   "codemirror_mode": {
    "name": "ipython",
    "version": 3
   },
   "file_extension": ".py",
   "mimetype": "text/x-python",
   "name": "python",
   "nbconvert_exporter": "python",
   "pygments_lexer": "ipython3",
   "version": "3.10.8"
  },
  "orig_nbformat": 4,
  "vscode": {
   "interpreter": {
    "hash": "61a611a7be3279e0a2e4a270464aec308f5c47a03c95c510df8ad06ac89d84be"
   }
  }
 },
 "nbformat": 4,
 "nbformat_minor": 2
}
